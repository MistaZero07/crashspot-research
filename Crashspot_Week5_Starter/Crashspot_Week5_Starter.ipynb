{
 "cells": [
  {
   "cell_type": "markdown",
   "id": "1e736452",
   "metadata": {},
   "source": [
    "\n",
    "# Crashspot — Week 5 Starter\n",
    "\n",
    "**Focus:** Model prep + baseline ML (Logistic Regression, Random Forest) for crash risk classification.\n",
    "\n",
    "This notebook:\n",
    "- Loads cleaned crash data (Louisiana statewide and/or Monroe case study).\n",
    "- Engineers ML features (time-of-day, day-of-week, etc.).\n",
    "- Defines a simple binary target: **multi-vehicle crash** (`VE_TOTAL >= 2`).\n",
    "- Splits into train/test and runs baseline models.\n",
    "- Saves evaluation plots and feature table for downstream work.\n",
    ">\n",
    "> - Inputs:\n",
    ">   `data_clean/fars_la_2022_2023.geojson`\n",
    ">   `data_clean/fars_monroe_2022_2023_clean.geojson`\n",
    ">   `data_clean/monroe_roads_with_crash_counts.geojson` (from Week 3)\n",
    "> - Outputs:\n",
    ">   `docs/figures/week5_model_eval.png`\n",
    ">   `docs/figures/week5_rf_feature_importance.png`\n",
    ">   `data_clean/week5_features.csv`\n"
   ]
  },
  {
   "cell_type": "code",
   "execution_count": 7,
   "id": "95cc93ab",
   "metadata": {},
   "outputs": [
    {
     "name": "stdout",
     "output_type": "stream",
     "text": [
      "Using project root: /Users/himalranabhat/Desktop/Crashspot\n",
      "Exists LA?: True | Exists Monroe?: True\n",
      "Optional roads join file?: True\n"
     ]
    }
   ],
   "source": [
    "\n",
    "# 1) Imports & paths\n",
    "import os\n",
    "from pathlib import Path\n",
    "import warnings\n",
    "warnings.filterwarnings(\"ignore\")\n",
    "\n",
    "import numpy as np\n",
    "import pandas as pd\n",
    "import geopandas as gpd\n",
    "from shapely.geometry import Point\n",
    "\n",
    "# ML\n",
    "from sklearn.model_selection import train_test_split\n",
    "from sklearn.preprocessing import OneHotEncoder, StandardScaler\n",
    "from sklearn.compose import ColumnTransformer\n",
    "from sklearn.pipeline import Pipeline\n",
    "from sklearn.linear_model import LogisticRegression\n",
    "from sklearn.ensemble import RandomForestClassifier\n",
    "from sklearn.metrics import (\n",
    "    accuracy_score, f1_score, classification_report, confusion_matrix\n",
    ")\n",
    "\n",
    "# Plotting\n",
    "import matplotlib.pyplot as plt\n",
    "\n",
    "# Project paths (adjust if your repo root differs)\n",
    "PROJECT_ROOT = Path.cwd().parent\n",
    "DATA_CLEAN  = PROJECT_ROOT / \"data_clean\"\n",
    "DOCS        = PROJECT_ROOT / \"docs\"\n",
    "FIGS        = DOCS / \"figures\"\n",
    "MAPS        = DOCS / \"maps\"\n",
    "\n",
    "FIGS.mkdir(parents=True, exist_ok=True)\n",
    "\n",
    "FARS_LA   = DATA_CLEAN / \"fars_la_2022_2023.geojson\"\n",
    "FARS_MON  = DATA_CLEAN / \"fars_monroe_2022_2023.geojson\"\n",
    "ROADS_JN  = DATA_CLEAN / \"monroe_roads_with_crash_counts.geojson\"  # optional\n",
    "\n",
    "EVAL_PNG  = FIGS / \"week5_model_eval.png\"\n",
    "RF_IMP_PNG= FIGS / \"week5_rf_feature_importance.png\"\n",
    "FEATS_CSV = DATA_CLEAN / \"week5_features.csv\"\n",
    "\n",
    "print(\"Using project root:\", PROJECT_ROOT)\n",
    "print(\"Exists LA?:\", FARS_LA.exists(), \"| Exists Monroe?:\", FARS_MON.exists())\n",
    "print(\"Optional roads join file?:\", ROADS_JN.exists())\n"
   ]
  },
  {
   "cell_type": "code",
   "execution_count": 8,
   "id": "7f5cba36",
   "metadata": {},
   "outputs": [
    {
     "name": "stdout",
     "output_type": "stream",
     "text": [
      "Loaded Monroe: 60 records | CRS: EPSG:4326\n",
      "Columns: ['STATE', 'STATENAME', 'ST_CASE', 'PEDS', 'PERNOTMVIT', 'VE_TOTAL', 'VE_FORMS', 'PVH_INVL', 'PERSONS', 'PERMVIT', 'COUNTY', 'COUNTYNAME', 'CITY', 'CITYNAME', 'MONTH', 'MONTHNAME', 'DAY', 'DAYNAME', 'DAY_WEEK', 'DAY_WEEKNAME'] ...\n"
     ]
    }
   ],
   "source": [
    "\n",
    "# 2) Load the best-available dataset (prefered Monroe)\n",
    "def load_best():\n",
    "    if FARS_MON.exists():\n",
    "        gdf = gpd.read_file(FARS_MON)\n",
    "        src = \"Monroe\"\n",
    "    elif FARS_LA.exists():\n",
    "        gdf = gpd.read_file(FARS_LA)\n",
    "        src = \"Louisiana\"\n",
    "    else:\n",
    "        raise FileNotFoundError(\"No cleaned GeoJSON found in data_clean/.\")\n",
    "    print(f\"Loaded {src}: {len(gdf)} records | CRS:\", gdf.crs)\n",
    "    return gdf, src\n",
    "\n",
    "gdf, src = load_best()\n",
    "\n",
    "# Ensure WGS84 for consistency\n",
    "if gdf.crs is None:\n",
    "    gdf = gdf.set_crs(4326)\n",
    "elif gdf.crs.to_epsg() != 4326:\n",
    "    gdf = gdf.to_crs(4326)\n",
    "\n",
    "# Inspect columns briefly\n",
    "print(\"Columns:\", list(gdf.columns)[:20], \"...\")\n"
   ]
  },
  {
   "cell_type": "markdown",
   "id": "7a3add99",
   "metadata": {},
   "source": [
    "## 3) Feature engineering"
   ]
  },
  {
   "cell_type": "code",
   "execution_count": null,
   "id": "d79b49e2",
   "metadata": {},
   "outputs": [
    {
     "name": "stdout",
     "output_type": "stream",
     "text": [
      "Road counts present but no shared key to merge; skipping join.\n",
      "X shape: (60, 8) | y mean (positives): 0.417\n",
      "Using numeric features: ['hour', 'month', 'weekday', 'is_weekend', 'is_night', 've_total', 'persons', 'peds']\n",
      "Using categorical features: []\n"
     ]
    }
   ],
   "source": [
    "\n",
    "# Helper to safely get a column, else fallback to zeros\n",
    "def get_col(df, name, default=0):\n",
    "    return df[name] if name in df.columns else default\n",
    "\n",
    "df = pd.DataFrame(gdf.drop(columns='geometry'))  # ML table (no geometry)\n",
    "\n",
    "# Parse date/time if present\n",
    "# FARS often has YEAR, MONTH, DAY, HOUR; some files include 'DAY_WEEK' etc.\n",
    "for col in [\"YEAR\", \"MONTH\", \"DAY\", \"HOUR\"]:\n",
    "    if col not in df.columns:\n",
    "        df[col] = 0\n",
    "\n",
    "# Build a datetime (coerce invalid)\n",
    "df[\"HOUR\"]  = pd.to_numeric(df[\"HOUR\"], errors=\"coerce\").fillna(0).astype(int)\n",
    "df[\"MONTH\"] = pd.to_numeric(df[\"MONTH\"], errors=\"coerce\").fillna(1).astype(int).clip(1, 12)\n",
    "df[\"DAY\"]   = pd.to_numeric(df[\"DAY\"], errors=\"coerce\").fillna(1).astype(int).clip(1, 28)  # safe\n",
    "df[\"YEAR\"]  = pd.to_numeric(df[\"YEAR\"], errors=\"coerce\").fillna(2023).astype(int)\n",
    "\n",
    "df[\"DATE\"] = pd.to_datetime(dict(year=df[\"YEAR\"], month=df[\"MONTH\"], day=df[\"DAY\"]), errors=\"coerce\")\n",
    "\n",
    "# Time-based features\n",
    "df[\"hour\"]     = df[\"HOUR\"].clip(0, 23)\n",
    "df[\"month\"]    = df[\"MONTH\"]\n",
    "df[\"weekday\"]  = df[\"DATE\"].dt.weekday.fillna(0).astype(int)  # 0=Mon\n",
    "df[\"is_weekend\"]= df[\"weekday\"].isin([5,6]).astype(int)\n",
    "df[\"is_night\"]  = df[\"hour\"].isin(list(range(0,6)) + list(range(22,24))).astype(int)\n",
    "\n",
    "# Crash severity proxy features\n",
    "df[\"ve_total\"] = pd.to_numeric(get_col(df, \"VE_TOTAL\", 0), errors=\"coerce\").fillna(0).astype(int)\n",
    "df[\"persons\"]  = pd.to_numeric(get_col(df, \"PERSONS\", 0), errors=\"coerce\").fillna(0).astype(int)\n",
    "df[\"peds\"]     = pd.to_numeric(get_col(df, \"PEDS\", 0), errors=\"coerce\").fillna(0).astype(int)\n",
    "\n",
    "# Optional: nearest road crash counts from Week 3 spatial join output (Monroe only)\n",
    "if ROADS_JN.exists():\n",
    "    try:\n",
    "        r = gpd.read_file(ROADS_JN)\n",
    "        # Expect per-road crash count column; try common names\n",
    "        cand = [c for c in r.columns if \"crash_count\" in c or \"count\" in c]\n",
    "        count_col = cand[0] if cand else None\n",
    "        if count_col:\n",
    "            # If original join had crash counts per road segment, we need to join back to point rows.\n",
    "            # If both tables share an ID (e.g., ST_CASE), use. Otherwise, skip.\n",
    "            key = \"ST_CASE\" if \"ST_CASE\" in r.columns and \"ST_CASE\" in df.columns else None\n",
    "            if key:\n",
    "                tmp = r[[key, count_col]].drop_duplicates()\n",
    "                before = df.shape[1]\n",
    "                df = df.merge(tmp, on=key, how=\"left\")\n",
    "                df[count_col] = pd.to_numeric(df[count_col], errors=\"coerce\").fillna(0)\n",
    "                print(f\"Joined road counts on {key} -> new cols:\", df.shape[1]-before)\n",
    "            else:\n",
    "                print(\"Road counts present but no shared key to merge; skipping join.\")\n",
    "        else:\n",
    "            print(\"No crash count-like column found in roads join; skipping.\")\n",
    "    except Exception as e:\n",
    "        print(\"Could not merge roads join file:\", e)\n",
    "\n",
    "# Target: multi-vehicle crash\n",
    "df[\"target_multiveh\"] = (df[\"ve_total\"] >= 2).astype(int)\n",
    "\n",
    "# Select features\n",
    "feature_cols_num = [\"hour\",\"month\",\"weekday\",\"is_weekend\",\"is_night\",\"ve_total\",\"persons\",\"peds\"]\n",
    "# Add optional joined count column if present\n",
    "extra_num = [c for c in df.columns if \"crash_count\" in c or (c.endswith(\"_count\") and c not in feature_cols_num)]\n",
    "feature_cols_num += [c for c in extra_num if c not in feature_cols_num]\n",
    "\n",
    "# Basic categorical (keep small)\n",
    "feature_cols_cat = []  # e.g., weather, road_type if cleaned & present\n",
    "\n",
    "X = df[feature_cols_num + feature_cols_cat].copy()\n",
    "y = df[\"target_multiveh\"].copy()\n",
    "\n",
    "print(\"X shape:\", X.shape, \"| y mean (positives):\", y.mean().round(3))\n",
    "print(\"Using numeric features:\", feature_cols_num)\n",
    "print(\"Using categorical features:\", feature_cols_cat)\n"
   ]
  },
  {
   "cell_type": "markdown",
   "id": "24968381",
   "metadata": {},
   "source": [
    "## 4) Train/test split & models"
   ]
  },
  {
   "cell_type": "code",
   "execution_count": 10,
   "id": "da3ee55f",
   "metadata": {},
   "outputs": [
    {
     "name": "stdout",
     "output_type": "stream",
     "text": [
      "Logistic Regression: acc=1.000 | f1=1.000\n",
      "Random Forest: acc=1.000 | f1=1.000\n"
     ]
    },
    {
     "data": {
      "image/png": "[encoded data removed]",
      "text/plain": [
       "<Figure size 1000x400 with 2 Axes>"
      ]
     },
     "metadata": {},
     "output_type": "display_data"
    },
    {
     "name": "stdout",
     "output_type": "stream",
     "text": [
      "Saved: /Users/himalranabhat/Desktop/Crashspot/docs/figures/week5_model_eval.png\n"
     ]
    }
   ],
   "source": [
    "\n",
    "# Train/test split\n",
    "X_train, X_test, y_train, y_test = train_test_split(\n",
    "    X, y, test_size=0.25, random_state=42, stratify=y if y.nunique()==2 else None\n",
    ")\n",
    "\n",
    "# Preprocess: scale numeric, one-hot categorical\n",
    "num_proc = Pipeline(steps=[(\"scaler\", StandardScaler(with_mean=False))])\n",
    "cat_proc = Pipeline(steps=[(\"ohe\", OneHotEncoder(handle_unknown=\"ignore\"))])\n",
    "\n",
    "pre = ColumnTransformer(\n",
    "    transformers=[\n",
    "        (\"num\", num_proc, feature_cols_num),\n",
    "        (\"cat\", cat_proc, feature_cols_cat)\n",
    "    ]\n",
    ")\n",
    "\n",
    "# Models\n",
    "log_reg = Pipeline(steps=[(\"pre\", pre), (\"clf\", LogisticRegression(max_iter=200, n_jobs=None))])\n",
    "rf_clf  = Pipeline(steps=[(\"pre\", pre), (\"clf\", RandomForestClassifier(n_estimators=300, random_state=42))])\n",
    "\n",
    "models = {\n",
    "    \"Logistic Regression\": log_reg,\n",
    "    \"Random Forest\": rf_clf\n",
    "}\n",
    "\n",
    "results = {}\n",
    "\n",
    "for name, pipe in models.items():\n",
    "    pipe.fit(X_train, y_train)\n",
    "    pred = pipe.predict(X_test)\n",
    "    acc = accuracy_score(y_test, pred)\n",
    "    f1  = f1_score(y_test, pred, zero_division=0)\n",
    "    results[name] = {\"acc\": acc, \"f1\": f1, \"pred\": pred}\n",
    "    print(f\"{name}: acc={acc:.3f} | f1={f1:.3f}\")\n",
    "\n",
    "# Save evaluation plot (confusion matrices)\n",
    "fig, axes = plt.subplots(1, len(models), figsize=(10,4))\n",
    "if len(models)==1:\n",
    "    axes = [axes]\n",
    "for ax, (name, r) in zip(axes, results.items()):\n",
    "    cm = confusion_matrix(y_test, r[\"pred\"])\n",
    "    im = ax.imshow(cm, cmap=\"Blues\")\n",
    "    ax.set_title(name)\n",
    "    ax.set_xlabel(\"Pred\")\n",
    "    ax.set_ylabel(\"True\")\n",
    "    for (i,j), v in np.ndenumerate(cm):\n",
    "        ax.text(j, i, int(v), ha=\"center\", va=\"center\")\n",
    "plt.tight_layout()\n",
    "plt.savefig(EVAL_PNG, dpi=160)\n",
    "plt.show()\n",
    "print(\"Saved:\", EVAL_PNG)\n"
   ]
  },
  {
   "cell_type": "markdown",
   "id": "5f151715",
   "metadata": {},
   "source": [
    "## 5) Random Forest feature importances (optional)"
   ]
  },
  {
   "cell_type": "code",
   "execution_count": 11,
   "id": "a60cfb72",
   "metadata": {},
   "outputs": [
    {
     "data": {
      "image/png": "[encoded data removed]",
      "text/plain": [
       "<Figure size 700x500 with 1 Axes>"
      ]
     },
     "metadata": {},
     "output_type": "display_data"
    },
    {
     "name": "stdout",
     "output_type": "stream",
     "text": [
      "Saved: /Users/himalranabhat/Desktop/Crashspot/docs/figures/week5_rf_feature_importance.png\n"
     ]
    }
   ],
   "source": [
    "\n",
    "if \"Random Forest\" in models:\n",
    "    rf = models[\"Random Forest\"]\n",
    "    # Recover feature names after preprocessing\n",
    "    # Build preprocesser alone to infer names\n",
    "    pre_only = rf.named_steps[\"pre\"]\n",
    "    pre_only.fit(X_train, y_train)\n",
    "    num_names = feature_cols_num\n",
    "    if feature_cols_cat:\n",
    "        ohe = pre_only.named_transformers_[\"cat\"].named_steps[\"ohe\"]\n",
    "        cat_names = list(ohe.get_feature_names_out(feature_cols_cat))\n",
    "    else:\n",
    "        cat_names = []\n",
    "    all_names = num_names + cat_names\n",
    "\n",
    "    # Extract trained RF estimator and its importances\n",
    "    clf = rf.named_steps[\"clf\"]\n",
    "    importances = clf.feature_importances_\n",
    "    # Guard: lengths may mismatch if transformers drop all-cat; align\n",
    "    k = min(len(all_names), len(importances))\n",
    "    imp = pd.Series(importances[:k], index=all_names[:k]).sort_values(ascending=False)[:20]\n",
    "\n",
    "    plt.figure(figsize=(7,5))\n",
    "    imp[::-1].plot.barh()\n",
    "    plt.title(\"Random Forest — Top Feature Importances\")\n",
    "    plt.tight_layout()\n",
    "    plt.savefig(RF_IMP_PNG, dpi=160)\n",
    "    plt.show()\n",
    "    print(\"Saved:\", RF_IMP_PNG)\n",
    "else:\n",
    "    print(\"RF not available; skipping importances.\")\n"
   ]
  },
  {
   "cell_type": "markdown",
   "id": "cdf56aa7",
   "metadata": {},
   "source": [
    "## 6) Save final feature table"
   ]
  },
  {
   "cell_type": "code",
   "execution_count": 12,
   "id": "45c37106",
   "metadata": {},
   "outputs": [
    {
     "name": "stdout",
     "output_type": "stream",
     "text": [
      "Saved features to: /Users/himalranabhat/Desktop/Crashspot/data_clean/week5_features.csv\n"
     ]
    },
    {
     "data": {
      "text/html": [
       "<div>\n",
       "<style scoped>\n",
       "    .dataframe tbody tr th:only-of-type {\n",
       "        vertical-align: middle;\n",
       "    }\n",
       "\n",
       "    .dataframe tbody tr th {\n",
       "        vertical-align: top;\n",
       "    }\n",
       "\n",
       "    .dataframe thead th {\n",
       "        text-align: right;\n",
       "    }\n",
       "</style>\n",
       "<table border=\"1\" class=\"dataframe\">\n",
       "  <thead>\n",
       "    <tr style=\"text-align: right;\">\n",
       "      <th></th>\n",
       "      <th>hour</th>\n",
       "      <th>month</th>\n",
       "      <th>weekday</th>\n",
       "      <th>is_weekend</th>\n",
       "      <th>is_night</th>\n",
       "      <th>ve_total</th>\n",
       "      <th>persons</th>\n",
       "      <th>peds</th>\n",
       "      <th>target_multiveh</th>\n",
       "    </tr>\n",
       "  </thead>\n",
       "  <tbody>\n",
       "    <tr>\n",
       "      <th>0</th>\n",
       "      <td>6</td>\n",
       "      <td>1</td>\n",
       "      <td>4</td>\n",
       "      <td>0</td>\n",
       "      <td>0</td>\n",
       "      <td>2</td>\n",
       "      <td>3</td>\n",
       "      <td>0</td>\n",
       "      <td>1</td>\n",
       "    </tr>\n",
       "    <tr>\n",
       "      <th>1</th>\n",
       "      <td>22</td>\n",
       "      <td>1</td>\n",
       "      <td>2</td>\n",
       "      <td>0</td>\n",
       "      <td>1</td>\n",
       "      <td>1</td>\n",
       "      <td>3</td>\n",
       "      <td>1</td>\n",
       "      <td>0</td>\n",
       "    </tr>\n",
       "    <tr>\n",
       "      <th>2</th>\n",
       "      <td>13</td>\n",
       "      <td>3</td>\n",
       "      <td>3</td>\n",
       "      <td>0</td>\n",
       "      <td>0</td>\n",
       "      <td>1</td>\n",
       "      <td>2</td>\n",
       "      <td>0</td>\n",
       "      <td>0</td>\n",
       "    </tr>\n",
       "    <tr>\n",
       "      <th>3</th>\n",
       "      <td>10</td>\n",
       "      <td>2</td>\n",
       "      <td>1</td>\n",
       "      <td>0</td>\n",
       "      <td>0</td>\n",
       "      <td>2</td>\n",
       "      <td>2</td>\n",
       "      <td>0</td>\n",
       "      <td>1</td>\n",
       "    </tr>\n",
       "    <tr>\n",
       "      <th>4</th>\n",
       "      <td>19</td>\n",
       "      <td>3</td>\n",
       "      <td>4</td>\n",
       "      <td>0</td>\n",
       "      <td>0</td>\n",
       "      <td>1</td>\n",
       "      <td>1</td>\n",
       "      <td>1</td>\n",
       "      <td>0</td>\n",
       "    </tr>\n",
       "  </tbody>\n",
       "</table>\n",
       "</div>"
      ],
      "text/plain": [
       "   hour  month  weekday  is_weekend  is_night  ve_total  persons  peds  \\\n",
       "0     6      1        4           0         0         2        3     0   \n",
       "1    22      1        2           0         1         1        3     1   \n",
       "2    13      3        3           0         0         1        2     0   \n",
       "3    10      2        1           0         0         2        2     0   \n",
       "4    19      3        4           0         0         1        1     1   \n",
       "\n",
       "   target_multiveh  \n",
       "0                1  \n",
       "1                0  \n",
       "2                0  \n",
       "3                1  \n",
       "4                0  "
      ]
     },
     "execution_count": 12,
     "metadata": {},
     "output_type": "execute_result"
    }
   ],
   "source": [
    "\n",
    "to_save = df[feature_cols_num + feature_cols_cat + [\"target_multiveh\"]].copy()\n",
    "to_save.to_csv(FEATS_CSV, index=False)\n",
    "print(\"Saved features to:\", FEATS_CSV)\n",
    "to_save.head()\n"
   ]
  }
 ],
 "metadata": {
  "kernelspec": {
   "display_name": "base",
   "language": "python",
   "name": "python3"
  },
  "language_info": {
   "codemirror_mode": {
    "name": "ipython",
    "version": 3
   },
   "file_extension": ".py",
   "mimetype": "text/x-python",
   "name": "python",
   "nbconvert_exporter": "python",
   "pygments_lexer": "ipython3",
   "version": "3.12.2"
  }
 },
 "nbformat": 4,
 "nbformat_minor": 5
}
