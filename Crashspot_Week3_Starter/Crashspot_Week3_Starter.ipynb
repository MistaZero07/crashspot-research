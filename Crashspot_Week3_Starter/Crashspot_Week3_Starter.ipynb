{
 "cells": [
  {
   "cell_type": "markdown",
   "id": "cb436c2f",
   "metadata": {},
   "source": [
    "# Crashspot – Week 3 Starter\n",
    "**Focus:** Spatial Clustering (DBSCAN) + Road Overlay (OSM) — Monroe, LA\n",
    "\n",
    "**Deliverables this week**\n",
    "- Clustered crashes (DBSCAN) saved as GeoJSON\n",
    "- Cluster size summary & bar chart\n",
    "- Folium map of clusters (categorical coloring)\n",
    "- Roads with crash counts joined (per segment)\n",
    "- Folium map of roads colored by crash count\n",
    "\n",
    "> Tip: Run cells top-to-bottom. If your filenames differ, edit the first \"Paths\" cell.\n"
   ]
  },
  {
   "cell_type": "code",
   "execution_count": null,
   "id": "cf7e9aba",
   "metadata": {},
   "outputs": [],
   "source": [
    "# 0) Paths & folders\n",
    "from pathlib import Path\n",
    "\n",
    "PROJECT_ROOT = Path.cwd().parent if (Path.cwd().name.startswith('Crashspot_')) else Path.cwd()\n",
    "\n",
    "for p in ['data_raw/osm_roads', 'data_clean', 'outputs/maps', 'outputs/figures']:\n",
    "    (PROJECT_ROOT / p).mkdir(parents=True, exist_ok=True)\n",
    "\n",
    "MONROE_CLEAN = PROJECT_ROOT / 'data_clean' / 'fars_monroe_2022_2023_clean.geojson'\n",
    "CLUSTERS_OUT = PROJECT_ROOT / 'data_clean' / 'fars_monroe_clusters.geojson'\n",
    "CLUSTERS_MAP = PROJECT_ROOT / 'outputs' / 'maps' / 'week3_monroe_clusters.html'\n",
    "ROADS_COUNTS_OUT = PROJECT_ROOT / 'data_clean' / 'monroe_roads_with_crash_counts.geojson'\n",
    "ROADS_MAP = PROJECT_ROOT / 'outputs' / 'maps' / 'week3_monroe_roads_counts.html'\n",
    "\n",
    "print('PROJECT_ROOT =', PROJECT_ROOT.resolve())\n",
    "print('Monroe clean file:', MONROE_CLEAN.exists(), MONROE_CLEAN)"
   ]
  },
  {
   "cell_type": "code",
   "execution_count": null,
   "id": "ca147ea7",
   "metadata": {},
   "outputs": [],
   "source": [
    "# 1) Imports & versions\n",
    "import sys, pandas as pd, numpy as np, geopandas as gpd, folium\n",
    "import matplotlib.pyplot as plt\n",
    "from shapely.geometry import Point, box\n",
    "from sklearn.cluster import DBSCAN\n",
    "\n",
    "print('Python:', sys.version.split()[0])\n",
    "print('pandas', pd.__version__, '| geopandas', gpd.__version__)"
   ]
  },
  {
   "cell_type": "markdown",
   "id": "ec969bd6",
   "metadata": {},
   "source": [
    "## Load Monroe crashes (Week 1 output)"
   ]
  },
  {
   "cell_type": "code",
   "execution_count": null,
   "id": "c5f75132",
   "metadata": {},
   "outputs": [],
   "source": [
    "# 2) Load Monroe cleaned GeoJSON\n",
    "if not MONROE_CLEAN.exists():\n",
    "    raise FileNotFoundError(f'Missing {MONROE_CLEAN}. Create it in Week 1.')\n",
    "\n",
    "monroe = gpd.read_file(MONROE_CLEAN)\n",
    "monroe = monroe.dropna(subset=['geometry']).copy()\n",
    "\n",
    "if monroe.crs is None or monroe.crs.to_epsg() != 4326:\n",
    "    monroe = monroe.to_crs(4326)\n",
    "\n",
    "print('Records:', len(monroe), '| CRS:', monroe.crs)\n",
    "monroe.head(2)"
   ]
  },
  {
   "cell_type": "markdown",
   "id": "b5500580",
   "metadata": {},
   "source": [
    "## Project to meters CRS (UTM 15N) for DBSCAN"
   ]
  },
  {
   "cell_type": "code",
   "execution_count": null,
   "id": "1c6990fe",
   "metadata": {},
   "outputs": [],
   "source": [
    "# 3) Project to UTM zone 15N (EPSG:32615) ~ suitable for Monroe, LA (lon ~ -92)\n",
    "MONROE_METRIC = monroe.to_crs(32615)\n",
    "coords = np.vstack([MONROE_METRIC.geometry.x.values, MONROE_METRIC.geometry.y.values]).T\n",
    "coords[:3], MONROE_METRIC.crs"
   ]
  },
  {
   "cell_type": "markdown",
   "id": "1dc2dbd4",
   "metadata": {},
   "source": [
    "## DBSCAN clustering\n",
    "- `eps` is neighborhood radius **in meters** (here: 250 m)\n",
    "- `min_samples` is min points to form a cluster (here: 5)"
   ]
  },
  {
   "cell_type": "code",
   "execution_count": null,
   "id": "9ac40d92",
   "metadata": {},
   "outputs": [],
   "source": [
    "# 4) Run DBSCAN\n",
    "eps_m = 250\n",
    "min_samples = 5\n",
    "\n",
    "db = DBSCAN(eps=eps_m, min_samples=min_samples)\n",
    "labels = db.fit_predict(coords)\n",
    "MONROE_METRIC['cluster_id'] = labels\n",
    "\n",
    "monroe_clusters = MONROE_METRIC.to_crs(4326)[monroe.columns.tolist() + ['cluster_id']]\n",
    "\n",
    "n_noise = int((labels == -1).sum())\n",
    "n_clusters = len(set(labels)) - (1 if -1 in labels else 0)\n",
    "print(f'Clusters found: {n_clusters} | Noise points: {n_noise}')\n",
    "\n",
    "sizes = pd.Series(labels)[pd.Series(labels) != -1].value_counts().sort_index()\n",
    "sizes.head()"
   ]
  },
  {
   "cell_type": "markdown",
   "id": "e4a5ca7e",
   "metadata": {},
   "source": [
    "## Save clustered crashes"
   ]
  },
  {
   "cell_type": "code",
   "execution_count": null,
   "id": "0847f1aa",
   "metadata": {},
   "outputs": [],
   "source": [
    "# 5) Save clustered Monroe crashes\n",
    "monroe_clusters.to_file(CLUSTERS_OUT, driver='GeoJSON')\n",
    "print('Saved:', CLUSTERS_OUT)"
   ]
  },
  {
   "cell_type": "markdown",
   "id": "3994c9f7",
   "metadata": {},
   "source": [
    "## Visualize cluster sizes"
   ]
  },
  {
   "cell_type": "code",
   "execution_count": null,
   "id": "76e3dad1",
   "metadata": {},
   "outputs": [],
   "source": [
    "# 6) Bar chart of cluster sizes\n",
    "if not sizes.empty:\n",
    "    plt.figure(figsize=(7,3))\n",
    "    sizes.plot(kind='bar')\n",
    "    plt.title(f'Monroe Crash Clusters (eps={eps_m}m, min_samples={min_samples})')\n",
    "    plt.xlabel('cluster_id'); plt.ylabel('points in cluster')\n",
    "    plt.tight_layout()\n",
    "    out_png = PROJECT_ROOT / 'outputs' / 'figures' / 'monroe_cluster_sizes.png'\n",
    "    plt.savefig(out_png, dpi=200); plt.show()\n",
    "    print('Saved:', out_png)\n",
    "else:\n",
    "    print('No clusters (all noise). Try increasing eps or lowering min_samples.')"
   ]
  },
  {
   "cell_type": "markdown",
   "id": "cf35e783",
   "metadata": {},
   "source": [
    "## Folium map of clusters (categorical colors)"
   ]
  },
  {
   "cell_type": "code",
   "execution_count": null,
   "id": "806b4b9e",
   "metadata": {},
   "outputs": [],
   "source": [
    "# 7) Folium map\n",
    "import random\n",
    "\n",
    "uniq = sorted([c for c in monroe_clusters['cluster_id'].unique() if c != -1])\n",
    "palette = {}\n",
    "for cid in uniq:\n",
    "    random.seed(cid)\n",
    "    palette[cid] = f'#{random.randint(0,255):02x}{random.randint(0,255):02x}{random.randint(0,255):02x}'\n",
    "palette[-1] = '#666666'\n",
    "\n",
    "center = [monroe_clusters.geometry.y.mean(), monroe_clusters.geometry.x.mean()]\n",
    "m = folium.Map(location=center, zoom_start=12, tiles='OpenStreetMap')\n",
    "\n",
    "for _, row in monroe_clusters.iterrows():\n",
    "    pt = row.geometry\n",
    "    folium.CircleMarker(\n",
    "        location=[pt.y, pt.x],\n",
    "        radius=4,\n",
    "        color=palette.get(row['cluster_id'], '#000'),\n",
    "        fill=True, fill_opacity=0.7,\n",
    "        popup=folium.Popup(f\"Cluster: {row['cluster_id']}<br>Year: {row.get('YEAR','')}<br>Hour: {row.get('HOUR','')}\", max_width=200)\n",
    "    ).add_to(m)\n",
    "\n",
    "m.save(str(CLUSTERS_MAP))\n",
    "m"
   ]
  },
  {
   "cell_type": "markdown",
   "id": "976590e4",
   "metadata": {},
   "source": [
    "## Load OSM roads (Geofabrik)"
   ]
  },
  {
   "cell_type": "code",
   "execution_count": null,
   "id": "ac1f63f3",
   "metadata": {},
   "outputs": [],
   "source": [
    "# 8) Load OSM roads from data_raw/osm_roads\n",
    "import os, geopandas as gpd\n",
    "\n",
    "roads_dir = PROJECT_ROOT / 'data_raw' / 'osm_roads'\n",
    "candidate = None\n",
    "for ext in ['.gpkg', '.shp']:\n",
    "    for p in roads_dir.rglob(f'*{ext}'):\n",
    "        if 'roads' in p.name.lower() or 'lines' in p.name.lower():\n",
    "            candidate = p\n",
    "            break\n",
    "    if candidate: break\n",
    "\n",
    "if candidate is None:\n",
    "    print('⚠️ Could not find OSM roads file in data_raw/osm_roads/. Place a .gpkg or .shp there.')\n",
    "else:\n",
    "    print('Found roads file:', candidate)\n",
    "\n",
    "roads = gpd.read_file(candidate) if candidate else None\n",
    "if roads is not None and (roads.crs is None or roads.crs.to_epsg() != 4326):\n",
    "    roads = roads.to_crs(4326)\n",
    "\n",
    "roads.head(2) if roads is not None else None"
   ]
  },
  {
   "cell_type": "markdown",
   "id": "dcd71a62",
   "metadata": {},
   "source": [
    "## Clip roads to Monroe extent"
   ]
  },
  {
   "cell_type": "code",
   "execution_count": null,
   "id": "48176a2f",
   "metadata": {},
   "outputs": [],
   "source": [
    "# 9) Clip roads to bbox around the crashes\n",
    "from shapely.geometry import box\n",
    "\n",
    "if roads is not None:\n",
    "    minx, miny, maxx, maxy = monroe_clusters.total_bounds\n",
    "    pad = 0.02  # ~2 km padding\n",
    "    bbox = box(minx-pad, miny-pad, maxx+pad, maxy+pad)\n",
    "    roads_clip = roads[roads.intersects(bbox)].copy()\n",
    "    print('Roads before/after clip:', len(roads), len(roads_clip))\n",
    "else:\n",
    "    roads_clip = None\n",
    "roads_clip.head(2) if roads_clip is not None else None"
   ]
  },
  {
   "cell_type": "markdown",
   "id": "bc307f66",
   "metadata": {},
   "source": [
    "## Join crash counts to road segments"
   ]
  },
  {
   "cell_type": "code",
   "execution_count": null,
   "id": "671feb15",
   "metadata": {},
   "outputs": [],
   "source": [
    "# 10) Nearest-join crashes to road segments (within 30 m), count per segment\n",
    "if roads_clip is not None:\n",
    "    roads_m = roads_clip.to_crs(32615)\n",
    "    pts_m = monroe_clusters.to_crs(32615)\n",
    "\n",
    "    try:\n",
    "        joined = gpd.sjoin_nearest(pts_m[['geometry']], roads_m[['geometry']], how='left', max_distance=30, distance_col='dist_m')\n",
    "        counts = joined.groupby(joined.index_right).size().rename('crash_count')\n",
    "        roads_m['crash_count'] = counts\n",
    "        roads_m['crash_count'] = roads_m['crash_count'].fillna(0).astype(int)\n",
    "    except Exception as e:\n",
    "        print('sjoin_nearest failed, fallback to buffer join:', e)\n",
    "        roads_buf = roads_m.copy()\n",
    "        roads_buf['geometry'] = roads_buf.buffer(20)\n",
    "        joined = gpd.sjoin(pts_m[['geometry']], roads_buf, how='left', predicate='within')\n",
    "        counts = joined.groupby(joined.index_right).size().rename('crash_count')\n",
    "        roads_m['crash_count'] = counts\n",
    "        roads_m['crash_count'] = roads_m['crash_count'].fillna(0).astype(int)\n",
    "\n",
    "    roads_counts = roads_m.to_crs(4326)\n",
    "    roads_counts.to_file(ROADS_COUNTS_OUT, driver='GeoJSON')\n",
    "    print('Saved:', ROADS_COUNTS_OUT)\n",
    "else:\n",
    "    roads_counts = None"
   ]
  },
  {
   "cell_type": "markdown",
   "id": "d20589de",
   "metadata": {},
   "source": [
    "## Folium map: roads colored by crash count"
   ]
  },
  {
   "cell_type": "code",
   "execution_count": null,
   "id": "5a387b75",
   "metadata": {},
   "outputs": [],
   "source": [
    "# 11) Map roads with crash_count\n",
    "if roads_counts is not None:\n",
    "    m2 = folium.Map(location=center, zoom_start=12, tiles='OpenStreetMap')\n",
    "    def color_for(n):\n",
    "        if n >= 10: return '#d73027'\n",
    "        if n >= 5:  return '#fc8d59'\n",
    "        if n >= 2:  return '#fee090'\n",
    "        if n >= 1:  return '#e0f3f8'\n",
    "        return '#cccccc'\n",
    "\n",
    "    for _, r in roads_counts.iterrows():\n",
    "        geom = r.geometry\n",
    "        col = color_for(r.get('crash_count', 0))\n",
    "        folium.GeoJson(geom.__geo_interface__, style_function=lambda _g, col=col: {'color': col, 'weight': 3}).add_to(m2)\n",
    "\n",
    "    m2.save(str(ROADS_MAP))\n",
    "    m2\n",
    "else:\n",
    "    print('No roads_counts to map.')"
   ]
  },
  {
   "cell_type": "markdown",
   "id": "7828b392",
   "metadata": {},
   "source": [
    "### Notes\n",
    "- If **no clusters** are detected, try increasing `eps_m` (e.g., 300–400) or lowering `min_samples`.\n",
    "- We use **UTM 15N (EPSG:32615)** for accurate meter-based clustering & joins in Monroe.\n",
    "- Nearest-join threshold is **30 m** — tune as needed.\n",
    "- Clip OSM roads to the Monroe extent to speed up processing.\n",
    "- Remember: FARS = **fatal crashes only** (historical risk)."
   ]
  }
 ],
 "metadata": {},
 "nbformat": 4,
 "nbformat_minor": 5
}
