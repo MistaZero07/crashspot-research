{
 "cells": [
  {
   "cell_type": "markdown",
   "id": "92de7ad7",
   "metadata": {},
   "source": [
    "# Crashspot – Week 4 Starter\n",
    "**Focus:** Kernel Density Estimation (KDE) heatmaps for Monroe and Louisiana\n",
    "\n",
    "- Monroe KDE (PNG + interactive HTML)\n",
    "- Louisiana KDE (PNG + interactive HTML)\n",
    "- Side‑by‑side PNG comparison\n",
    "- GeoTIFF rasters for QGIS/ArcGIS\n",
    "\n"
   ]
  },
  {
   "cell_type": "code",
   "execution_count": 11,
   "id": "6ab7c91e",
   "metadata": {},
   "outputs": [
    {
     "name": "stdout",
     "output_type": "stream",
     "text": [
      "PROJECT_ROOT: /Users/himalranabhat/Desktop/Crashspot\n",
      "Exists: True True\n"
     ]
    }
   ],
   "source": [
    "# 0) Paths & folders\n",
    "from pathlib import Path\n",
    "\n",
    "PROJECT_ROOT = Path.cwd().parent if (Path.cwd().name.startswith('Crashspot_')) else Path.cwd()\n",
    "\n",
    "DATA_CLEAN = PROJECT_ROOT / \"data_clean\"\n",
    "DOCS = PROJECT_ROOT / \"docs\"\n",
    "DOCS_MAPS = DOCS / \"maps\"\n",
    "FIGS = PROJECT_ROOT / \"outputs\" / \"figures\"\n",
    "for p in [DOCS_MAPS, FIGS, DATA_CLEAN]:\n",
    "    p.mkdir(parents=True, exist_ok=True)\n",
    "\n",
    "LA_FILE = DATA_CLEAN / \"fars_la_2022_2023.geojson\"\n",
    "MO_FILE = DATA_CLEAN / \"fars_monroe_2022_2023.geojson\"\n",
    "\n",
    "PNG_MONROE = FIGS / \"monroe_kde.png\"\n",
    "PNG_LA     = FIGS / \"la_kde.png\"\n",
    "PNG_SIDE   = FIGS / \"kde_monroe_vs_louisiana.png\"\n",
    "HTML_MONROE = DOCS_MAPS / \"week4_monroe_heatmap.html\"\n",
    "HTML_LA     = DOCS_MAPS / \"week4_louisiana_heatmap.html\"\n",
    "TIF_MONROE  = DATA_CLEAN / \"monroe_kde.tif\"\n",
    "TIF_LA      = DATA_CLEAN / \"la_kde.tif\"\n",
    "\n",
    "print(\"PROJECT_ROOT:\", PROJECT_ROOT.resolve())\n",
    "print(\"Exists:\", LA_FILE.exists(), MO_FILE.exists())"
   ]
  },
  {
   "cell_type": "code",
   "execution_count": 12,
   "id": "ace12c42",
   "metadata": {},
   "outputs": [
    {
     "name": "stdout",
     "output_type": "stream",
     "text": [
      "Libraries ready\n"
     ]
    }
   ],
   "source": [
    "# 1) Imports\n",
    "import numpy as np, pandas as pd, geopandas as gpd\n",
    "import matplotlib.pyplot as plt\n",
    "from sklearn.neighbors import KernelDensity\n",
    "from sklearn.model_selection import GridSearchCV\n",
    "import folium\n",
    "from folium.plugins import HeatMap\n",
    "from shapely.geometry import Point\n",
    "print(\"Libraries ready\")"
   ]
  },
  {
   "cell_type": "markdown",
   "id": "0640ed92",
   "metadata": {},
   "source": [
    "## Load Monroe & Louisiana crashes (cleaned in Week 1)"
   ]
  },
  {
   "cell_type": "code",
   "execution_count": 13,
   "id": "5370fe0c",
   "metadata": {},
   "outputs": [
    {
     "name": "stdout",
     "output_type": "stream",
     "text": [
      "Counts -> LA: 1607 | Monroe: 60\n"
     ]
    }
   ],
   "source": [
    "# 2) Load (and ensure CRS)\n",
    "if not LA_FILE.exists() or not MO_FILE.exists():\n",
    "    raise FileNotFoundError(\"Missing cleaned files. Ensure Week 1 outputs exist in data_clean/.\")\n",
    "la = gpd.read_file(LA_FILE).dropna(subset=[\"geometry\"]).to_crs(4326)\n",
    "mo = gpd.read_file(MO_FILE).dropna(subset=[\"geometry\"]).to_crs(4326)\n",
    "print(\"Counts -> LA:\", len(la), \"| Monroe:\", len(mo))"
   ]
  },
  {
   "cell_type": "markdown",
   "id": "63e35c10",
   "metadata": {},
   "source": [
    "## Project to UTM 15N (EPSG:32615) for meter-based KDE"
   ]
  },
  {
   "cell_type": "code",
   "execution_count": 21,
   "id": "8614fad7",
   "metadata": {},
   "outputs": [
    {
     "name": "stdout",
     "output_type": "stream",
     "text": [
      "CRS (LA): EPSG:32615 | CRS (Monroe): EPSG:32615\n",
      "Counts after cleaning → LA: 1603 | Monroe: 60\n"
     ]
    }
   ],
   "source": [
    "# 3) Project to meters\n",
    "def clean_project(gdf_wgs84, epsg=32615):\n",
    "    # keep valid geometries\n",
    "    g = gdf_wgs84[gdf_wgs84.geometry.notna()].copy()\n",
    "    g = g[g.geometry.is_valid].to_crs(epsg)\n",
    "    # drop any non-finite projected coords\n",
    "    x = g.geometry.x.to_numpy()\n",
    "    y = g.geometry.y.to_numpy()\n",
    "    m = np.isfinite(x) & np.isfinite(y)\n",
    "    return g.iloc[m]\n",
    "\n",
    "la_m = clean_project(la, 32615)\n",
    "mo_m = clean_project(mo, 32615)\n",
    "\n",
    "print(\"CRS (LA):\", la_m.crs, \"| CRS (Monroe):\", mo_m.crs)\n",
    "print(\"Counts after cleaning → LA:\", len(la_m), \"| Monroe:\", len(mo_m))"
   ]
  },
  {
   "cell_type": "markdown",
   "id": "bc9a285a",
   "metadata": {},
   "source": [
    "## Bandwidth selection (GridSearchCV with fallback)"
   ]
  },
  {
   "cell_type": "code",
   "execution_count": 22,
   "id": "06698a2d",
   "metadata": {},
   "outputs": [
    {
     "name": "stdout",
     "output_type": "stream",
     "text": [
      "[bw] n=60, cv=5 → 1500.0 m\n",
      "[bw] n=1603, cv=5 → 1500.0 m\n",
      "Chosen bandwidths (m): Monroe = 1500 | Louisiana = 1500\n"
     ]
    }
   ],
   "source": [
    "# 4) Robust bandwidth selection (with safeguards + fallback)\n",
    "import numpy as np\n",
    "from sklearn.model_selection import GridSearchCV\n",
    "from sklearn.neighbors import KernelDensity\n",
    "\n",
    "def _finite_xy(gdf_m):\n",
    "    xy = np.column_stack([gdf_m.geometry.x.values, gdf_m.geometry.y.values]).astype(float)\n",
    "    m = np.isfinite(xy).all(axis=1)\n",
    "    return xy[m]\n",
    "\n",
    "def pick_bandwidth(gdf_m, candidates=(200, 400, 600, 800, 1000, 1500), fallback=600.0):\n",
    "    X = _finite_xy(gdf_m)\n",
    "    n = len(X)\n",
    "\n",
    "    # Too few points? use fallback\n",
    "    if n < 10:\n",
    "        print(f\"[bw] only {n} points → fallback {fallback} m\")\n",
    "        return float(fallback)\n",
    "\n",
    "    # Set a safe CV (at least 2, at most 5, and not larger than n)\n",
    "    cv = max(2, min(5, n // 10 or 2))\n",
    "    try:\n",
    "        grid = GridSearchCV(\n",
    "            KernelDensity(kernel=\"gaussian\"),\n",
    "            {\"bandwidth\": np.array(candidates, dtype=float)},\n",
    "            cv=cv,\n",
    "            error_score=\"raise\"\n",
    "        )\n",
    "        grid.fit(X)\n",
    "        bw = float(grid.best_params_[\"bandwidth\"])\n",
    "        print(f\"[bw] n={n}, cv={cv} → {bw} m\")\n",
    "        return bw\n",
    "    except Exception as e:\n",
    "        print(f\"[bw] grid search failed ({e}) → fallback {fallback} m\")\n",
    "        return float(fallback)\n",
    "\n",
    "bw_mo = pick_bandwidth(mo_m)\n",
    "bw_la = pick_bandwidth(la_m)\n",
    "print(\"Chosen bandwidths (m): Monroe =\", int(bw_mo), \"| Louisiana =\", int(bw_la))\n"
   ]
  },
  {
   "cell_type": "markdown",
   "id": "3d2433f4",
   "metadata": {},
   "source": [
    "## KDE rasterization to grid (returns X, Y, Z)"
   ]
  },
  {
   "cell_type": "code",
   "execution_count": 25,
   "id": "7d2d323e",
   "metadata": {},
   "outputs": [
    {
     "name": "stdout",
     "output_type": "stream",
     "text": [
      "Monroe Z shape: (402, 365) cell(m): 120\n",
      "LA     Z shape: (213, 229) cell(m): 2000\n"
     ]
    }
   ],
   "source": [
    "# 5) KDE raster (memory/finites safe)\n",
    "def kde_raster_safe(gdf_m, bandwidth, cell=500, expand=2000, max_cells=1_500_000):\n",
    "    \"\"\"\n",
    "    Build a KDE raster from a GeoDataFrame in a projected CRS (meters).\n",
    "    - Uses finite XY only to compute bounds\n",
    "    - Auto-increases cell size until nx*ny <= max_cells\n",
    "    \"\"\"\n",
    "    # finite XY from geometries\n",
    "    xy = np.column_stack([gdf_m.geometry.x.values, gdf_m.geometry.y.values]).astype(float)\n",
    "    mask = np.isfinite(xy).all(axis=1)\n",
    "    xy = xy[mask]\n",
    "    if xy.size == 0:\n",
    "        raise ValueError(\"No finite coordinates available after cleaning.\")\n",
    "\n",
    "    # bounds from finite XY\n",
    "    xmin, ymin = xy.min(axis=0)\n",
    "    xmax, ymax = xy.max(axis=0)\n",
    "    xmin -= float(expand); ymin -= float(expand)\n",
    "    xmax += float(expand); ymax += float(expand)\n",
    "\n",
    "    # guard against degenerate extents\n",
    "    width  = max(1.0, xmax - xmin)\n",
    "    height = max(1.0, ymax - ymin)\n",
    "\n",
    "    # initial grid size\n",
    "    cell = float(cell)\n",
    "    nx = max(1, int(np.ceil(width  / cell)))\n",
    "    ny = max(1, int(np.ceil(height / cell)))\n",
    "\n",
    "    # auto-grow until within limit\n",
    "    while nx * ny > max_cells:\n",
    "        cell *= 1.5\n",
    "        nx = max(1, int(np.ceil(width  / cell)))\n",
    "        ny = max(1, int(np.ceil(height / cell)))\n",
    "\n",
    "    xs = np.linspace(xmin, xmax, nx)\n",
    "    ys = np.linspace(ymin, ymax, ny)\n",
    "    xx, yy = np.meshgrid(xs, ys)\n",
    "    grid = np.column_stack([xx.ravel(), yy.ravel()])\n",
    "\n",
    "    kde = KernelDensity(bandwidth=float(bandwidth), kernel=\"gaussian\").fit(xy)\n",
    "    Z = np.exp(kde.score_samples(grid)).reshape(ny, nx)\n",
    "    return xs, ys, Z, cell\n",
    "\n",
    "# Monroe: fine resolution\n",
    "xs_mo, ys_mo, Z_mo, cell_mo = kde_raster_safe(mo_m, bw_mo, cell=120,  expand=2000, max_cells=1_200_000)\n",
    "\n",
    "# Louisiana: start coarse; function will upsize cell if needed\n",
    "xs_la, ys_la, Z_la, cell_la = kde_raster_safe(la_m, bw_la, cell=2000, expand=4000, max_cells=1_200_000)\n",
    "\n",
    "print(\"Monroe Z shape:\", Z_mo.shape, \"cell(m):\", int(cell_mo))\n",
    "print(\"LA     Z shape:\", Z_la.shape, \"cell(m):\",    int(cell_la))\n",
    "\n"
   ]
  },
  {
   "cell_type": "markdown",
   "id": "5748b3bd",
   "metadata": {},
   "source": [
    "## Save static PNGs (Monroe, LA, side-by-side)"
   ]
  },
  {
   "cell_type": "code",
   "execution_count": 27,
   "id": "243d3d22",
   "metadata": {},
   "outputs": [
    {
     "name": "stdout",
     "output_type": "stream",
     "text": [
      "Saved: /Users/himalranabhat/Desktop/Crashspot/outputs/figures/monroe_kde.png \n",
      "Saved: /Users/himalranabhat/Desktop/Crashspot/outputs/figures/la_kde.png \n",
      "Saved: /Users/himalranabhat/Desktop/Crashspot/outputs/figures/kde_monroe_vs_louisiana.png\n"
     ]
    }
   ],
   "source": [
    "# 6) Static plots\n",
    "def plot_kde(xs, ys, Z, title, outpng):\n",
    "    plt.figure(figsize=(7,6))\n",
    "    plt.imshow(Z, extent=[xs.min(), xs.max(), ys.min(), ys.max()],\n",
    "    origin=\"lower\", cmap=\"hot\")\n",
    "    plt.title(title); plt.axis(\"off\"); plt.tight_layout()\n",
    "    plt.savefig(outpng, dpi=200); plt.close()\n",
    "\n",
    "plot_kde(xs_mo, ys_mo, Z_mo, f\"Monroe KDE (bw={int(bw_mo)} m)\", PNG_MONROE)\n",
    "plot_kde(xs_la, ys_la, Z_la, f\"Louisiana KDE (bw={int(bw_la)} m)\", PNG_LA)\n",
    "\n",
    "plt.figure(figsize=(12,5))\n",
    "for i,(xs,ys,Z,title) in enumerate([(xs_mo,ys_mo,Z_mo,\"Monroe\"), (xs_la,ys_la,Z_la,\"Louisiana\")]):\n",
    "    ax = plt.subplot(1,2,i+1)\n",
    "    ax.imshow(Z, extent=[xs.min(), xs.max(), ys.min(), ys.max()], origin=\"lower\", cmap=\"hot\")\n",
    "    ax.set_title(title); ax.axis(\"off\")\n",
    "plt.tight_layout()\n",
    "plt.savefig(PNG_SIDE, dpi=220); plt.close()\n",
    "\n",
    "print(\"Saved:\", PNG_MONROE, \"\\nSaved:\", PNG_LA, \"\\nSaved:\", PNG_SIDE)"
   ]
  },
  {
   "cell_type": "markdown",
   "id": "ddc3710f",
   "metadata": {},
   "source": [
    "## Interactive Folium heatmaps (point-based)"
   ]
  },
  {
   "cell_type": "code",
   "execution_count": null,
   "id": "c635e6a2",
   "metadata": {},
   "outputs": [
    {
     "name": "stdout",
     "output_type": "stream",
     "text": [
      "Saved: /Users/himalranabhat/Desktop/Crashspot/docs/maps/week4_monroe_heatmap.html\n",
      "Saved: /Users/himalranabhat/Desktop/Crashspot/docs/maps/week4_louisiana_heatmap.html\n"
     ]
    },
    {
     "data": {
      "text/html": [
       "<div style=\"width:100%;\"><div style=\"position:relative;width:100%;height:0;padding-bottom:60%;\"><span style=\"color:#565656\">Make this Notebook Trusted to load map: File -> Trust Notebook</span><iframe srcdoc=\"&lt;!DOCTYPE html&gt;\n",
       "&lt;html&gt;\n",
       "&lt;head&gt;\n",
       "    \n",
       "    &lt;meta http-equiv=&quot;content-type&quot; content=&quot;text/html; charset=UTF-8&quot; /&gt;\n",
       "    &lt;script src=&quot;https://cdn.jsdelivr.net/npm/leaflet@1.9.3/dist/leaflet.js&quot;&gt;&lt;/script&gt;\n",
       "    &lt;script src=&quot;https://code.jquery.com/jquery-3.7.1.min.js&quot;&gt;&lt;/script&gt;\n",
       "    &lt;script src=&quot;https://cdn.jsdelivr.net/npm/bootstrap@5.2.2/dist/js/bootstrap.bundle.min.js&quot;&gt;&lt;/script&gt;\n",
       "    &lt;script src=&quot;https://cdnjs.cloudflare.com/ajax/libs/Leaflet.awesome-markers/2.0.2/leaflet.awesome-markers.js&quot;&gt;&lt;/script&gt;\n",
       "    &lt;link rel=&quot;stylesheet&quot; href=&quot;https://cdn.jsdelivr.net/npm/leaflet@1.9.3/dist/leaflet.css&quot;/&gt;\n",
       "    &lt;link rel=&quot;stylesheet&quot; href=&quot;https://cdn.jsdelivr.net/npm/bootstrap@5.2.2/dist/css/bootstrap.min.css&quot;/&gt;\n",
       "    &lt;link rel=&quot;stylesheet&quot; href=&quot;https://netdna.bootstrapcdn.com/bootstrap/3.0.0/css/bootstrap-glyphicons.css&quot;/&gt;\n",
       "    &lt;link rel=&quot;stylesheet&quot; href=&quot;https://cdn.jsdelivr.net/npm/@fortawesome/fontawesome-free@6.2.0/css/all.min.css&quot;/&gt;\n",
       "    &lt;link rel=&quot;stylesheet&quot; href=&quot;https://cdnjs.cloudflare.com/ajax/libs/Leaflet.awesome-markers/2.0.2/leaflet.awesome-markers.css&quot;/&gt;\n",
       "    &lt;link rel=&quot;stylesheet&quot; href=&quot;https://cdn.jsdelivr.net/gh/python-visualization/folium/folium/templates/leaflet.awesome.rotate.min.css&quot;/&gt;\n",
       "    \n",
       "            &lt;meta name=&quot;viewport&quot; content=&quot;width=device-width,\n",
       "                initial-scale=1.0, maximum-scale=1.0, user-scalable=no&quot; /&gt;\n",
       "            &lt;style&gt;\n",
       "                #map_1b3df49fb02fa5ad7bb9cd119085bbfc {\n",
       "                    position: relative;\n",
       "                    width: 100.0%;\n",
       "                    height: 100.0%;\n",
       "                    left: 0.0%;\n",
       "                    top: 0.0%;\n",
       "                }\n",
       "                .leaflet-container { font-size: 1rem; }\n",
       "            &lt;/style&gt;\n",
       "\n",
       "            &lt;style&gt;html, body {\n",
       "                width: 100%;\n",
       "                height: 100%;\n",
       "                margin: 0;\n",
       "                padding: 0;\n",
       "            }\n",
       "            &lt;/style&gt;\n",
       "\n",
       "            &lt;style&gt;#map {\n",
       "                position:absolute;\n",
       "                top:0;\n",
       "                bottom:0;\n",
       "                right:0;\n",
       "                left:0;\n",
       "                }\n",
       "            &lt;/style&gt;\n",
       "\n",
       "            &lt;script&gt;\n",
       "                L_NO_TOUCH = false;\n",
       "                L_DISABLE_3D = false;\n",
       "            &lt;/script&gt;\n",
       "\n",
       "        \n",
       "    &lt;script src=&quot;https://cdn.jsdelivr.net/gh/python-visualization/folium@main/folium/templates/leaflet_heat.min.js&quot;&gt;&lt;/script&gt;\n",
       "&lt;/head&gt;\n",
       "&lt;body&gt;\n",
       "    \n",
       "    \n",
       "            &lt;div class=&quot;folium-map&quot; id=&quot;map_1b3df49fb02fa5ad7bb9cd119085bbfc&quot; &gt;&lt;/div&gt;\n",
       "        \n",
       "&lt;/body&gt;\n",
       "&lt;script&gt;\n",
       "    \n",
       "    \n",
       "            var map_1b3df49fb02fa5ad7bb9cd119085bbfc = L.map(\n",
       "                &quot;map_1b3df49fb02fa5ad7bb9cd119085bbfc&quot;,\n",
       "                {\n",
       "                    center: [32.503447731, -92.14855939833332],\n",
       "                    crs: L.CRS.EPSG3857,\n",
       "                    ...{\n",
       "  &quot;zoom&quot;: 12,\n",
       "  &quot;zoomControl&quot;: true,\n",
       "  &quot;preferCanvas&quot;: false,\n",
       "}\n",
       "\n",
       "                }\n",
       "            );\n",
       "\n",
       "            \n",
       "\n",
       "        \n",
       "    \n",
       "            var tile_layer_001a233fe54fb757785eddd4875d7eaf = L.tileLayer(\n",
       "                &quot;https://{s}.basemaps.cartocdn.com/light_all/{z}/{x}/{y}{r}.png&quot;,\n",
       "                {\n",
       "  &quot;minZoom&quot;: 0,\n",
       "  &quot;maxZoom&quot;: 20,\n",
       "  &quot;maxNativeZoom&quot;: 20,\n",
       "  &quot;noWrap&quot;: false,\n",
       "  &quot;attribution&quot;: &quot;\\u0026copy; \\u003ca href=\\&quot;https://www.openstreetmap.org/copyright\\&quot;\\u003eOpenStreetMap\\u003c/a\\u003e contributors \\u0026copy; \\u003ca href=\\&quot;https://carto.com/attributions\\&quot;\\u003eCARTO\\u003c/a\\u003e&quot;,\n",
       "  &quot;subdomains&quot;: &quot;abcd&quot;,\n",
       "  &quot;detectRetina&quot;: false,\n",
       "  &quot;tms&quot;: false,\n",
       "  &quot;opacity&quot;: 1,\n",
       "}\n",
       "\n",
       "            );\n",
       "        \n",
       "    \n",
       "            tile_layer_001a233fe54fb757785eddd4875d7eaf.addTo(map_1b3df49fb02fa5ad7bb9cd119085bbfc);\n",
       "        \n",
       "    \n",
       "            var heat_map_84b74b5adb5960ec24c325b765401683 = L.heatLayer(\n",
       "                [[32.48495833, -92.16463333], [32.46445, -92.08658889], [32.52214444, -92.13264444], [32.68439722, -92.05355278], [32.53508889, -92.18330833], [32.49888056, -91.99038889], [32.46786111, -92.0669], [32.41576944, -92.373725], [32.49088056, -92.01666944], [32.47894722, -92.15524722], [32.51373056, -92.08076944], [32.49763889, -92.15740556], [32.41910278, -92.18636667], [32.52047778, -92.10963333], [32.28686944, -92.24425], [32.51878333, -92.08879722], [32.50653889, -92.15855], [32.67506944, -92.04455833], [32.51133889, -92.134625], [32.52636944, -92.06363611], [32.46056944, -92.16116111], [32.53179444, -92.37332778], [32.49535278, -92.19206667], [32.5261, -92.04289444], [32.40034444, -92.20136111], [32.41156389, -92.1042], [32.44199444, -92.345525], [32.49931389, -92.08192778], [32.51428889, -92.39886667], [32.49501389, -92.146025], [32.59073333, -91.98171667], [32.42822222, -92.09275278], [32.4946, -92.05770278], [32.57895833, -92.39401389], [32.52627222, -92.06394167], [32.63725833, -92.11596667], [32.45723611, -92.16330278], [32.51026111, -92.26141111], [32.518375, -92.22881389], [32.55774167, -92.00546944], [32.54633889, -92.07758056], [32.49902222, -92.08204167], [32.49020833, -92.00292222], [32.50094167, -92.10621667], [32.57180833, -92.34256944], [32.54080833, -92.35615833], [32.478825, -92.08275278], [32.51034722, -92.25694444], [32.50948889, -92.28699167], [32.56847778, -92.06711389], [32.53886389, -91.99063056], [32.47384444, -92.15523889], [32.494875, -92.15745], [32.46099167, -92.29385278], [32.51964167, -91.97629722], [32.43523056, -92.33281111], [32.49671111, -92.11449167], [32.51006667, -92.08553333], [32.49089167, -92.08341389], [32.47418889, -92.15785556]],\n",
       "                {\n",
       "  &quot;minOpacity&quot;: 0.15,\n",
       "  &quot;maxZoom&quot;: 18,\n",
       "  &quot;radius&quot;: 18,\n",
       "  &quot;blur&quot;: 22,\n",
       "}\n",
       "            );\n",
       "        \n",
       "    \n",
       "            heat_map_84b74b5adb5960ec24c325b765401683.addTo(map_1b3df49fb02fa5ad7bb9cd119085bbfc);\n",
       "        \n",
       "    \n",
       "            tile_layer_001a233fe54fb757785eddd4875d7eaf.addTo(map_1b3df49fb02fa5ad7bb9cd119085bbfc);\n",
       "        \n",
       "    \n",
       "            heat_map_84b74b5adb5960ec24c325b765401683.addTo(map_1b3df49fb02fa5ad7bb9cd119085bbfc);\n",
       "        \n",
       "&lt;/script&gt;\n",
       "&lt;/html&gt;\" style=\"position:absolute;width:100%;height:100%;left:0;top:0;border:none !important;\" allowfullscreen webkitallowfullscreen mozallowfullscreen></iframe></div></div>"
      ],
      "text/plain": [
       "<folium.folium.Map at 0x15f573470>"
      ]
     },
     "execution_count": 28,
     "metadata": {},
     "output_type": "execute_result"
    }
   ],
   "source": [
    "# 7) Interactive Folium heatmaps\n",
    "def folium_heatmap(gdf_wgs84, out_html, zoom=12):\n",
    "    m = folium.Map(location=[gdf_wgs84.geometry.y.mean(), gdf_wgs84.geometry.x.mean()],\n",
    "    zoom_start=zoom, tiles=\"CartoDB Positron\")\n",
    "    pts = [[pt.y, pt.x] for pt in gdf_wgs84.geometry]\n",
    "    HeatMap(pts, radius=18, blur=22, min_opacity=0.15).add_to(m)\n",
    "    m.save(out_html); \n",
    "    print(\"Saved:\", out_html)\n",
    "    return m\n",
    "\n",
    "m1 = folium_heatmap(mo.to_crs(4326), HTML_MONROE, zoom=12)\n",
    "m2 = folium_heatmap(la.to_crs(4326), HTML_LA, zoom=6)\n",
    "m1"
   ]
  },
  {
   "cell_type": "markdown",
   "id": "2c98343c",
   "metadata": {},
   "source": [
    "## (Optional) Export KDE GeoTIFFs for QGIS/ArcGIS"
   ]
  },
  {
   "cell_type": "code",
   "execution_count": 5,
   "id": "1958c395",
   "metadata": {},
   "outputs": [],
   "source": [
    "# 8) GeoTIFF export\n",
    "import rasterio\n",
    "from rasterio.transform import from_origin\n",
    "\n",
    "def export_geotiff(xs, ys, Z, out_path, crs=\"EPSG:32615\"):\n",
    "    \"\"\"\n",
    "    Export a KDE raster to GeoTIFF.\n",
    "    \n",
    "    xs, ys = coordinate arrays (from np.linspace in kde_raster)\n",
    "    Z = raster intensity array\n",
    "    out_path = output .tif file\n",
    "    crs = projection (default: UTM zone 15N for Monroe/Louisiana)\n",
    "    \"\"\"\n",
    "    # Ensure float32 for raster storage\n",
    "    Z = Z.astype(\"float32\")\n",
    "    \n",
    "    # Resolution (cell size in meters)\n",
    "    xres = (xs[-1] - xs[0]) / (len(xs) - 1)\n",
    "    yres = (ys[-1] - ys[0]) / (len(ys) - 1)\n",
    "\n",
    "    # Affine transform: top-left corner (origin)\n",
    "    transform = from_origin(xs[0], ys[-1], xres, yres)\n",
    "\n",
    "    with rasterio.open(\n",
    "        out_path, \"w\",\n",
    "        driver=\"GTiff\",\n",
    "        height=Z.shape[0],\n",
    "        width=Z.shape[1],\n",
    "        count=1,\n",
    "        dtype=\"float32\",\n",
    "        crs=crs,\n",
    "        transform=transform,\n",
    "    ) as dst:\n",
    "        dst.write(Z, 1)\n",
    "\n",
    "    print(f\"✅ Exported GeoTIFF: {out_path}\")\n"
   ]
  }
 ],
 "metadata": {
  "kernelspec": {
   "display_name": "base",
   "language": "python",
   "name": "python3"
  },
  "language_info": {
   "codemirror_mode": {
    "name": "ipython",
    "version": 3
   },
   "file_extension": ".py",
   "mimetype": "text/x-python",
   "name": "python",
   "nbconvert_exporter": "python",
   "pygments_lexer": "ipython3",
   "version": "3.12.2"
  }
 },
 "nbformat": 4,
 "nbformat_minor": 5
}
