{
 "cells": [
  {
   "cell_type": "markdown",
   "id": "6484b585",
   "metadata": {},
   "source": [
    "# Crashspot – Week 6 Starter\n",
    "\n",
    "**Focus:** Model enhancement + class imbalance handling + third model"
   ]
  },
  {
   "cell_type": "code",
   "execution_count": 6,
   "id": "d3e36985",
   "metadata": {},
   "outputs": [
    {
     "name": "stdout",
     "output_type": "stream",
     "text": [
      "Loaded: (60, 9)\n"
     ]
    },
    {
     "data": {
      "text/html": [
       "<div>\n",
       "<style scoped>\n",
       "    .dataframe tbody tr th:only-of-type {\n",
       "        vertical-align: middle;\n",
       "    }\n",
       "\n",
       "    .dataframe tbody tr th {\n",
       "        vertical-align: top;\n",
       "    }\n",
       "\n",
       "    .dataframe thead th {\n",
       "        text-align: right;\n",
       "    }\n",
       "</style>\n",
       "<table border=\"1\" class=\"dataframe\">\n",
       "  <thead>\n",
       "    <tr style=\"text-align: right;\">\n",
       "      <th></th>\n",
       "      <th>hour</th>\n",
       "      <th>month</th>\n",
       "      <th>weekday</th>\n",
       "      <th>is_weekend</th>\n",
       "      <th>is_night</th>\n",
       "      <th>ve_total</th>\n",
       "      <th>persons</th>\n",
       "      <th>peds</th>\n",
       "      <th>target_multiveh</th>\n",
       "    </tr>\n",
       "  </thead>\n",
       "  <tbody>\n",
       "    <tr>\n",
       "      <th>0</th>\n",
       "      <td>6</td>\n",
       "      <td>1</td>\n",
       "      <td>4</td>\n",
       "      <td>0</td>\n",
       "      <td>0</td>\n",
       "      <td>2</td>\n",
       "      <td>3</td>\n",
       "      <td>0</td>\n",
       "      <td>1</td>\n",
       "    </tr>\n",
       "    <tr>\n",
       "      <th>1</th>\n",
       "      <td>22</td>\n",
       "      <td>1</td>\n",
       "      <td>2</td>\n",
       "      <td>0</td>\n",
       "      <td>1</td>\n",
       "      <td>1</td>\n",
       "      <td>3</td>\n",
       "      <td>1</td>\n",
       "      <td>0</td>\n",
       "    </tr>\n",
       "    <tr>\n",
       "      <th>2</th>\n",
       "      <td>13</td>\n",
       "      <td>3</td>\n",
       "      <td>3</td>\n",
       "      <td>0</td>\n",
       "      <td>0</td>\n",
       "      <td>1</td>\n",
       "      <td>2</td>\n",
       "      <td>0</td>\n",
       "      <td>0</td>\n",
       "    </tr>\n",
       "    <tr>\n",
       "      <th>3</th>\n",
       "      <td>10</td>\n",
       "      <td>2</td>\n",
       "      <td>1</td>\n",
       "      <td>0</td>\n",
       "      <td>0</td>\n",
       "      <td>2</td>\n",
       "      <td>2</td>\n",
       "      <td>0</td>\n",
       "      <td>1</td>\n",
       "    </tr>\n",
       "    <tr>\n",
       "      <th>4</th>\n",
       "      <td>19</td>\n",
       "      <td>3</td>\n",
       "      <td>4</td>\n",
       "      <td>0</td>\n",
       "      <td>0</td>\n",
       "      <td>1</td>\n",
       "      <td>1</td>\n",
       "      <td>1</td>\n",
       "      <td>0</td>\n",
       "    </tr>\n",
       "  </tbody>\n",
       "</table>\n",
       "</div>"
      ],
      "text/plain": [
       "   hour  month  weekday  is_weekend  is_night  ve_total  persons  peds  \\\n",
       "0     6      1        4           0         0         2        3     0   \n",
       "1    22      1        2           0         1         1        3     1   \n",
       "2    13      3        3           0         0         1        2     0   \n",
       "3    10      2        1           0         0         2        2     0   \n",
       "4    19      3        4           0         0         1        1     1   \n",
       "\n",
       "   target_multiveh  \n",
       "0                1  \n",
       "1                0  \n",
       "2                0  \n",
       "3                1  \n",
       "4                0  "
      ]
     },
     "execution_count": 6,
     "metadata": {},
     "output_type": "execute_result"
    }
   ],
   "source": [
    "\n",
    "# Imports\n",
    "import os\n",
    "import pandas as pd\n",
    "import numpy as np\n",
    "import matplotlib.pyplot as plt\n",
    "\n",
    "from sklearn.model_selection import train_test_split\n",
    "from sklearn.linear_model import LogisticRegression\n",
    "from sklearn.ensemble import RandomForestClassifier, GradientBoostingClassifier\n",
    "from sklearn.metrics import (classification_report, confusion_matrix, \n",
    "                             RocCurveDisplay, PrecisionRecallDisplay, \n",
    "                             accuracy_score, f1_score)\n",
    "from sklearn.utils.class_weight import compute_class_weight\n",
    "\n",
    "# Optional: SMOTE (may not be installed). We'll try and fallback gracefully.\n",
    "try:\n",
    "    from imblearn.over_sampling import SMOTE\n",
    "    HAS_SMOTE = True\n",
    "except Exception as e:\n",
    "    HAS_SMOTE = False\n",
    "    print(\"SMOTE not available; proceeding without it. To enable: pip install imbalanced-learn\")\n",
    "\n",
    "# Paths (assuming this notebook lives in Crashspot/notebooks/)\n",
    "DATA_PATH = \"../data_clean/week5_features.csv\"\n",
    "FIG_DIR = \"../docs/figures\"\n",
    "MODEL_DIR = \"../models\"\n",
    "\n",
    "os.makedirs(FIG_DIR, exist_ok=True)\n",
    "os.makedirs(MODEL_DIR, exist_ok=True)\n",
    "\n",
    "# Load Week 5 engineered dataset\n",
    "df = pd.read_csv(DATA_PATH)\n",
    "print(\"Loaded:\", df.shape)\n",
    "df.head()\n"
   ]
  },
  {
   "cell_type": "code",
   "execution_count": 7,
   "id": "019bc243",
   "metadata": {},
   "outputs": [
    {
     "name": "stdout",
     "output_type": "stream",
     "text": [
      "Train: (42, 8) Val: (9, 8) Test: (9, 8)\n"
     ]
    },
    {
     "data": {
      "text/plain": [
       "target_multiveh\n",
       "0    0.583333\n",
       "1    0.416667\n",
       "Name: class_ratio, dtype: float64"
      ]
     },
     "execution_count": 7,
     "metadata": {},
     "output_type": "execute_result"
    }
   ],
   "source": [
    "\n",
    "# Features/target\n",
    "target = \"target_multiveh\"\n",
    "X = df.drop(columns=[target])\n",
    "y = df[target]\n",
    "\n",
    "# Train/Val/Test split: 70/15/15\n",
    "X_train, X_temp, y_train, y_temp = train_test_split(X, y, test_size=0.30, random_state=42, stratify=y)\n",
    "X_val, X_test, y_val, y_test = train_test_split(X_temp, y_temp, test_size=0.50, random_state=42, stratify=y_temp)\n",
    "\n",
    "print(\"Train:\", X_train.shape, \"Val:\", X_val.shape, \"Test:\", X_test.shape)\n",
    "y.value_counts(normalize=True).rename(\"class_ratio\")\n"
   ]
  },
  {
   "cell_type": "markdown",
   "id": "c7637816",
   "metadata": {},
   "source": [
    "## Strategy A: Class weights (balanced)"
   ]
  },
  {
   "cell_type": "code",
   "execution_count": 8,
   "id": "58f97fec",
   "metadata": {},
   "outputs": [
    {
     "name": "stdout",
     "output_type": "stream",
     "text": [
      "\n",
      "=== LogReg_bal (Validation) ===\n",
      "              precision    recall  f1-score   support\n",
      "\n",
      "           0      1.000     0.800     0.889         5\n",
      "           1      0.800     1.000     0.889         4\n",
      "\n",
      "    accuracy                          0.889         9\n",
      "   macro avg      0.900     0.900     0.889         9\n",
      "weighted avg      0.911     0.889     0.889         9\n",
      "\n",
      "\n",
      "=== RF_bal (Validation) ===\n",
      "              precision    recall  f1-score   support\n",
      "\n",
      "           0      1.000     1.000     1.000         5\n",
      "           1      1.000     1.000     1.000         4\n",
      "\n",
      "    accuracy                          1.000         9\n",
      "   macro avg      1.000     1.000     1.000         9\n",
      "weighted avg      1.000     1.000     1.000         9\n",
      "\n",
      "\n",
      "=== GB (Validation) ===\n",
      "              precision    recall  f1-score   support\n",
      "\n",
      "           0      1.000     1.000     1.000         5\n",
      "           1      1.000     1.000     1.000         4\n",
      "\n",
      "    accuracy                          1.000         9\n",
      "   macro avg      1.000     1.000     1.000         9\n",
      "weighted avg      1.000     1.000     1.000         9\n",
      "\n"
     ]
    },
    {
     "data": {
      "text/html": [
       "<div>\n",
       "<style scoped>\n",
       "    .dataframe tbody tr th:only-of-type {\n",
       "        vertical-align: middle;\n",
       "    }\n",
       "\n",
       "    .dataframe tbody tr th {\n",
       "        vertical-align: top;\n",
       "    }\n",
       "\n",
       "    .dataframe thead th {\n",
       "        text-align: right;\n",
       "    }\n",
       "</style>\n",
       "<table border=\"1\" class=\"dataframe\">\n",
       "  <thead>\n",
       "    <tr style=\"text-align: right;\">\n",
       "      <th></th>\n",
       "      <th>model</th>\n",
       "      <th>val_accuracy</th>\n",
       "      <th>val_f1</th>\n",
       "    </tr>\n",
       "  </thead>\n",
       "  <tbody>\n",
       "    <tr>\n",
       "      <th>1</th>\n",
       "      <td>RF_bal</td>\n",
       "      <td>1.000000</td>\n",
       "      <td>1.000000</td>\n",
       "    </tr>\n",
       "    <tr>\n",
       "      <th>2</th>\n",
       "      <td>GB</td>\n",
       "      <td>1.000000</td>\n",
       "      <td>1.000000</td>\n",
       "    </tr>\n",
       "    <tr>\n",
       "      <th>0</th>\n",
       "      <td>LogReg_bal</td>\n",
       "      <td>0.888889</td>\n",
       "      <td>0.888889</td>\n",
       "    </tr>\n",
       "  </tbody>\n",
       "</table>\n",
       "</div>"
      ],
      "text/plain": [
       "        model  val_accuracy    val_f1\n",
       "1      RF_bal      1.000000  1.000000\n",
       "2          GB      1.000000  1.000000\n",
       "0  LogReg_bal      0.888889  0.888889"
      ]
     },
     "execution_count": 8,
     "metadata": {},
     "output_type": "execute_result"
    }
   ],
   "source": [
    "\n",
    "# Logistic Regression with class_weight\n",
    "lr = LogisticRegression(max_iter=1000, solver=\"liblinear\", class_weight=\"balanced\")\n",
    "lr.fit(X_train, y_train)\n",
    "\n",
    "# Random Forest with class_weight\n",
    "rf = RandomForestClassifier(random_state=42, class_weight=\"balanced\")\n",
    "rf.fit(X_train, y_train)\n",
    "\n",
    "# Gradient Boosting (no native class_weight) — baseline third model\n",
    "gb = GradientBoostingClassifier(random_state=42)\n",
    "gb.fit(X_train, y_train)\n",
    "\n",
    "models = {\"LogReg_bal\": lr, \"RF_bal\": rf, \"GB\": gb}\n",
    "\n",
    "# Validate\n",
    "val_rows = []\n",
    "for name, m in models.items():\n",
    "    y_pred = m.predict(X_val)\n",
    "    acc = accuracy_score(y_val, y_pred)\n",
    "    f1 = f1_score(y_val, y_pred)\n",
    "    val_rows.append({\"model\": name, \"val_accuracy\": acc, \"val_f1\": f1})\n",
    "    print(f\"\\n=== {name} (Validation) ===\")\n",
    "    print(classification_report(y_val, y_pred, digits=3))\n",
    "pd.DataFrame(val_rows).sort_values(\"val_f1\", ascending=False)\n"
   ]
  },
  {
   "cell_type": "markdown",
   "id": "c0784da2",
   "metadata": {},
   "source": [
    "## Strategy B: Oversampling with SMOTE (if available)"
   ]
  },
  {
   "cell_type": "code",
   "execution_count": 9,
   "id": "94327f2b",
   "metadata": {},
   "outputs": [
    {
     "name": "stdout",
     "output_type": "stream",
     "text": [
      "After SMOTE: (48, 8) class balance: target_multiveh\n",
      "1    24\n",
      "0    24\n",
      "Name: count, dtype: int64\n",
      "\n",
      "=== LogReg_SMOTE (Validation) ===\n",
      "              precision    recall  f1-score   support\n",
      "\n",
      "           0      1.000     0.800     0.889         5\n",
      "           1      0.800     1.000     0.889         4\n",
      "\n",
      "    accuracy                          0.889         9\n",
      "   macro avg      0.900     0.900     0.889         9\n",
      "weighted avg      0.911     0.889     0.889         9\n",
      "\n",
      "\n",
      "=== RF_SMOTE (Validation) ===\n",
      "              precision    recall  f1-score   support\n",
      "\n",
      "           0      1.000     1.000     1.000         5\n",
      "           1      1.000     1.000     1.000         4\n",
      "\n",
      "    accuracy                          1.000         9\n",
      "   macro avg      1.000     1.000     1.000         9\n",
      "weighted avg      1.000     1.000     1.000         9\n",
      "\n",
      "\n",
      "=== GB_SMOTE (Validation) ===\n",
      "              precision    recall  f1-score   support\n",
      "\n",
      "           0      1.000     1.000     1.000         5\n",
      "           1      1.000     1.000     1.000         4\n",
      "\n",
      "    accuracy                          1.000         9\n",
      "   macro avg      1.000     1.000     1.000         9\n",
      "weighted avg      1.000     1.000     1.000         9\n",
      "\n"
     ]
    }
   ],
   "source": [
    "\n",
    "if HAS_SMOTE:\n",
    "    sm = SMOTE(random_state=42)\n",
    "    X_train_sm, y_train_sm = sm.fit_resample(X_train, y_train)\n",
    "    print(\"After SMOTE:\", X_train_sm.shape, \"class balance:\", y_train_sm.value_counts())\n",
    "\n",
    "    lr_sm = LogisticRegression(max_iter=1000, solver=\"liblinear\")\n",
    "    rf_sm = RandomForestClassifier(random_state=42)\n",
    "    gb_sm = GradientBoostingClassifier(random_state=42)\n",
    "\n",
    "    for m in (lr_sm, rf_sm, gb_sm):\n",
    "        m.fit(X_train_sm, y_train_sm)\n",
    "\n",
    "    models_sm = {\"LogReg_SMOTE\": lr_sm, \"RF_SMOTE\": rf_sm, \"GB_SMOTE\": gb_sm}\n",
    "\n",
    "    val_rows_sm = []\n",
    "    for name, m in models_sm.items():\n",
    "        y_pred = m.predict(X_val)\n",
    "        acc = accuracy_score(y_val, y_pred)\n",
    "        f1 = f1_score(y_val, y_pred)\n",
    "        val_rows_sm.append({\"model\": name, \"val_accuracy\": acc, \"val_f1\": f1})\n",
    "        print(f\"\\n=== {name} (Validation) ===\")\n",
    "        print(classification_report(y_val, y_pred, digits=3))\n",
    "    pd.DataFrame(val_rows_sm).sort_values(\"val_f1\", ascending=False)\n",
    "else:\n",
    "    print(\"Skip SMOTE section (library not found).\")\n"
   ]
  },
  {
   "cell_type": "markdown",
   "id": "54dda826",
   "metadata": {},
   "source": [
    "## Test-set Evaluation + Curves"
   ]
  },
  {
   "cell_type": "code",
   "execution_count": 10,
   "id": "2f2e15ea",
   "metadata": {},
   "outputs": [
    {
     "name": "stdout",
     "output_type": "stream",
     "text": [
      "Best (no SMOTE): RF_bal\n",
      "Overall best considering SMOTE: RF_bal\n",
      "\n",
      "=== TEST REPORT ===\n",
      "              precision    recall  f1-score   support\n",
      "\n",
      "           0      1.000     1.000     1.000         6\n",
      "           1      1.000     1.000     1.000         3\n",
      "\n",
      "    accuracy                          1.000         9\n",
      "   macro avg      1.000     1.000     1.000         9\n",
      "weighted avg      1.000     1.000     1.000         9\n",
      "\n",
      "Confusion matrix:\n",
      "[[6 0]\n",
      " [0 3]]\n"
     ]
    },
    {
     "data": {
      "text/plain": [
       "<Figure size 600x500 with 0 Axes>"
      ]
     },
     "metadata": {},
     "output_type": "display_data"
    },
    {
     "data": {
      "image/png": "[encoded data removed]",
      "text/plain": [
       "<Figure size 640x480 with 1 Axes>"
      ]
     },
     "metadata": {},
     "output_type": "display_data"
    },
    {
     "data": {
      "text/plain": [
       "<Figure size 600x500 with 0 Axes>"
      ]
     },
     "metadata": {},
     "output_type": "display_data"
    },
    {
     "data": {
      "image/png": "[encoded data removed]",
      "text/plain": [
       "<Figure size 640x480 with 1 Axes>"
      ]
     },
     "metadata": {},
     "output_type": "display_data"
    },
    {
     "name": "stdout",
     "output_type": "stream",
     "text": [
      "Saved model to ../models/week6_best_model.pkl\n"
     ]
    }
   ],
   "source": [
    "\n",
    "# Pick best model by val F1\n",
    "def best_by_val(models_dict):\n",
    "    best_name, best_model, best_f1 = None, None, -1\n",
    "    for name, m in models_dict.items():\n",
    "        f1 = f1_score(y_val, m.predict(X_val))\n",
    "        if f1 > best_f1:\n",
    "            best_name, best_model, best_f1 = name, m, f1\n",
    "    return best_name, best_model\n",
    "\n",
    "best_name, best_model = best_by_val(models)\n",
    "print(\"Best (no SMOTE):\", best_name)\n",
    "\n",
    "# If SMOTE exists, compare\n",
    "if HAS_SMOTE:\n",
    "    best_name_sm, best_model_sm = best_by_val(models_sm)\n",
    "    # Choose overall best\n",
    "    cand = [(best_name, best_model), (best_name_sm, best_model_sm)]\n",
    "    best_name, best_model = max(cand, key=lambda t: f1_score(y_val, t[1].predict(X_val)))\n",
    "    print(\"Overall best considering SMOTE:\", best_name)\n",
    "\n",
    "# Test metrics\n",
    "y_pred = best_model.predict(X_test)\n",
    "print(\"\\n=== TEST REPORT ===\")\n",
    "print(classification_report(y_test, y_pred, digits=3))\n",
    "print(\"Confusion matrix:\")\n",
    "print(confusion_matrix(y_test, y_pred))\n",
    "\n",
    "# Curves\n",
    "fig_roc = plt.figure(figsize=(6,5))\n",
    "RocCurveDisplay.from_estimator(best_model, X_test, y_test)\n",
    "plt.title(f\"Week6 ROC – {best_name}\")\n",
    "plt.savefig(os.path.join(FIG_DIR, \"week6_roc.png\"), dpi=150, bbox_inches=\"tight\")\n",
    "plt.show()\n",
    "\n",
    "fig_pr = plt.figure(figsize=(6,5))\n",
    "PrecisionRecallDisplay.from_estimator(best_model, X_test, y_test)\n",
    "plt.title(f\"Week6 Precision–Recall – {best_name}\")\n",
    "plt.savefig(os.path.join(FIG_DIR, \"week6_pr.png\"), dpi=150, bbox_inches=\"tight\")\n",
    "plt.show()\n",
    "\n",
    "# Save model\n",
    "import joblib\n",
    "joblib.dump(best_model, os.path.join(MODEL_DIR, \"week6_best_model.pkl\"))\n",
    "print(\"Saved model to ../models/week6_best_model.pkl\")\n"
   ]
  }
 ],
 "metadata": {
  "kernelspec": {
   "display_name": "base",
   "language": "python",
   "name": "python3"
  },
  "language_info": {
   "codemirror_mode": {
    "name": "ipython",
    "version": 3
   },
   "file_extension": ".py",
   "mimetype": "text/x-python",
   "name": "python",
   "nbconvert_exporter": "python",
   "pygments_lexer": "ipython3",
   "version": "3.12.2"
  }
 },
 "nbformat": 4,
 "nbformat_minor": 5
}
