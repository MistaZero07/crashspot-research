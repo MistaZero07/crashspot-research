{
 "cells": [
  {
   "cell_type": "markdown",
   "id": "63ca99e1",
   "metadata": {},
   "source": [
    "# Crashspot – Week 2 Starter\n",
    "**Focus:** Cleaning + Exploratory Mapping (Louisiana & Monroe)\n",
    "\n",
    "Deliverables this week:\n",
    "- Refined clean GeoJSONs\n",
    "- Summary tables & charts (year/month/hour/county)\n",
    "- KDE heatmaps saved to `outputs/figures/`\n",
    "- OSM roads downloaded into `data_raw/` (prep for Week 3)\n",
    "\n",
    "> Tip: Run each cell in order. Adjust file names if yours differ."
   ]
  },
  {
   "cell_type": "code",
   "execution_count": null,
   "id": "72308568",
   "metadata": {},
   "outputs": [],
   "source": [
    "# 0) Setup paths & folders\n",
    "from pathlib import Path\n",
    "import os\n",
    "\n",
    "PROJECT_ROOT = Path.cwd().parent if (Path.cwd().name.startswith('Crashspot_')) else Path.cwd()\n",
    "\n",
    "for p in ['data_raw', 'data_clean', 'outputs/figures']:\n",
    "    (PROJECT_ROOT / p).mkdir(parents=True, exist_ok=True)\n",
    "\n",
    "print('PROJECT_ROOT =', PROJECT_ROOT.resolve())\n",
    "print('Figures will be saved to:', (PROJECT_ROOT / 'outputs' / 'figures').resolve())"
   ]
  },
  {
   "cell_type": "code",
   "execution_count": null,
   "id": "5e23324e",
   "metadata": {},
   "outputs": [],
   "source": [
    "# 1) Imports & environment check\n",
    "import sys, pandas as pd, numpy as np, geopandas as gpd\n",
    "import matplotlib.pyplot as plt\n",
    "from shapely.geometry import Point\n",
    "from sklearn.neighbors import KernelDensity\n",
    "\n",
    "print('Python:', sys.version.split()[0])\n",
    "print('pandas', pd.__version__, '| geopandas', gpd.__version__)"
   ]
  },
  {
   "cell_type": "markdown",
   "id": "422d44c1",
   "metadata": {},
   "source": [
    "## Load Week 1 Outputs\n",
    "Update these paths if you used different names. Monroe file uses the `*_clean.geojson` we created to remove bad coords."
   ]
  },
  {
   "cell_type": "code",
   "execution_count": null,
   "id": "9cf168cf",
   "metadata": {},
   "outputs": [],
   "source": [
    "# 2) Load Week 1 cleaned files\n",
    "la_path = PROJECT_ROOT / 'data_clean' / 'fars_la_2022_2023.geojson'\n",
    "monroe_path = PROJECT_ROOT / 'data_clean' / 'fars_monroe_2022_2023_clean.geojson'\n",
    "\n",
    "la_gdf = gpd.read_file(la_path) if la_path.exists() else None\n",
    "monroe_gdf = gpd.read_file(monroe_path) if monroe_path.exists() else None\n",
    "\n",
    "print('LA records:', 0 if la_gdf is None else len(la_gdf))\n",
    "print('Monroe records:', 0 if monroe_gdf is None else len(monroe_gdf))"
   ]
  },
  {
   "cell_type": "markdown",
   "id": "1294209f",
   "metadata": {},
   "source": [
    "## Clean & Standardize Columns\n",
    "We'll coerce numeric fields and build a proper datetime for simple grouping."
   ]
  },
  {
   "cell_type": "code",
   "execution_count": null,
   "id": "be02eabf",
   "metadata": {},
   "outputs": [],
   "source": [
    "# 3) Standardize date/time fields and ensure numeric\n",
    "def prep_df(gdf):\n",
    "    if gdf is None or gdf.empty:\n",
    "        return gdf\n",
    "    df = gdf.copy()\n",
    "    for c in ['YEAR','MONTH','DAY','HOUR']:\n",
    "        if c in df.columns:\n",
    "            df[c] = pd.to_numeric(df[c], errors='coerce').astype('Int64')\n",
    "    if all(col in df.columns for col in ['YEAR','MONTH','DAY']):\n",
    "        dt_parts = df[['YEAR','MONTH','DAY']].astype('float').fillna(1).astype(int)\n",
    "        df['DATE'] = pd.to_datetime(dict(year=dt_parts['YEAR'], month=dt_parts['MONTH'], day=dt_parts['DAY']), errors='coerce')\n",
    "    if df.crs is None or df.crs.to_epsg() != 4326:\n",
    "        df = df.to_crs(4326)\n",
    "    return df\n",
    "\n",
    "la_gdf = prep_df(la_gdf)\n",
    "monroe_gdf = prep_df(monroe_gdf)\n",
    "\n",
    "print('After prep → LA:', 0 if la_gdf is None else len(la_gdf), '| Monroe:', 0 if monroe_gdf is None else len(monroe_gdf))"
   ]
  },
  {
   "cell_type": "markdown",
   "id": "a1c50119",
   "metadata": {},
   "source": [
    "## Exploratory Summaries\n",
    "Quick counts by year, month, hour. Modify as needed."
   ]
  },
  {
   "cell_type": "code",
   "execution_count": null,
   "id": "3b04ca32",
   "metadata": {},
   "outputs": [],
   "source": [
    "# 4) Summary tables\n",
    "def summarize(df, label=''):\n",
    "    if df is None or df.empty: \n",
    "        return\n",
    "    print(f'\\n=== {label} ===')\n",
    "    if 'YEAR' in df: print('By YEAR:\\n', df['YEAR'].value_counts().sort_index())\n",
    "    if 'MONTH' in df: print('\\nBy MONTH:\\n', df['MONTH'].value_counts().sort_index())\n",
    "    if 'HOUR' in df: print('\\nBy HOUR:\\n', df['HOUR'].value_counts().sort_index())\n",
    "    if 'COUNTY' in df: print('\\nTop COUNTIES:\\n', df['COUNTY'].value_counts().head(10))\n",
    "\n",
    "summarize(la_gdf, 'Louisiana')\n",
    "summarize(monroe_gdf, 'Monroe')"
   ]
  },
  {
   "cell_type": "markdown",
   "id": "ce6cc874",
   "metadata": {},
   "source": [
    "## Simple Charts\n",
    "Bar charts for month/hour."
   ]
  },
  {
   "cell_type": "code",
   "execution_count": null,
   "id": "8f9bdc57",
   "metadata": {},
   "outputs": [],
   "source": [
    "# 5) Bar charts\n",
    "plt.figure(figsize=(6,3))\n",
    "if la_gdf is not None and 'MONTH' in la_gdf:\n",
    "    la_gdf['MONTH'].value_counts().sort_index().plot(kind='bar')\n",
    "    plt.title('Louisiana Crashes by Month (2022–2023)'); plt.xlabel('Month'); plt.ylabel('Count')\n",
    "    plt.tight_layout()\n",
    "    plt.savefig(PROJECT_ROOT / 'outputs' / 'figures' / 'la_by_month.png', dpi=200)\n",
    "    plt.show()\n",
    "\n",
    "plt.figure(figsize=(6,3))\n",
    "if monroe_gdf is not None and 'HOUR' in monroe_gdf:\n",
    "    monroe_gdf['HOUR'].value_counts().sort_index().plot(kind='bar')\n",
    "    plt.title('Monroe Crashes by Hour (2022–2023)'); plt.xlabel('Hour'); plt.ylabel('Count')\n",
    "    plt.tight_layout()\n",
    "    plt.savefig(PROJECT_ROOT / 'outputs' / 'figures' / 'monroe_by_hour.png', dpi=200)\n",
    "    plt.show()"
   ]
  },
  {
   "cell_type": "markdown",
   "id": "56d8e9d6",
   "metadata": {},
   "source": [
    "## KDE Heatmap (Python)\n",
    "This cell computes a simple Kernel Density Estimation over lat/long and saves a raster-like PNG.\n",
    "Note: For publication-quality heatmaps, also try QGIS → **Raster → Heatmap (Kernel Density Estimation)** with a suitable radius."
   ]
  },
  {
   "cell_type": "code",
   "execution_count": null,
   "id": "8aa83a51",
   "metadata": {},
   "outputs": [],
   "source": [
    "# 6) KDE heatmap for Monroe\n",
    "from matplotlib.colors import LinearSegmentedColormap\n",
    "import numpy as np\n",
    "\n",
    "def kde_heatmap(gdf, out_png, bandwidth=0.01, img_size=600):\n",
    "    if gdf is None or gdf.empty:\n",
    "        print('No data for KDE.')\n",
    "        return\n",
    "    pts = np.vstack([gdf.geometry.y.values, gdf.geometry.x.values]).T  # [lat, lon]\n",
    "    kde = KernelDensity(bandwidth=bandwidth, kernel='gaussian').fit(pts)\n",
    "    lat_min, lon_min, lat_max, lon_max = gdf.total_bounds[1], gdf.total_bounds[0], gdf.total_bounds[3], gdf.total_bounds[2]\n",
    "    xx, yy = np.meshgrid(\n",
    "        np.linspace(lon_min, lon_max, img_size),\n",
    "        np.linspace(lat_min, lat_max, img_size)\n",
    "    )\n",
    "    sample = np.vstack([yy.ravel(), xx.ravel()]).T\n",
    "    zz = np.exp(kde.score_samples(sample)).reshape(xx.shape)\n",
    "\n",
    "    cmap = LinearSegmentedColormap.from_list('kde', ['white','yellow','orange','red'])\n",
    "    plt.figure(figsize=(6,6))\n",
    "    plt.imshow(zz, origin='lower', cmap=cmap, extent=[lon_min, lon_max, lat_min, lat_max])\n",
    "    plt.scatter(gdf.geometry.x, gdf.geometry.y, s=3, alpha=0.3)\n",
    "    plt.title('Monroe KDE (bandwidth={})'.format(bandwidth))\n",
    "    plt.xlabel('Longitude'); plt.ylabel('Latitude')\n",
    "    plt.tight_layout()\n",
    "    plt.savefig(out_png, dpi=200)\n",
    "    plt.show()\n",
    "    print('Saved:', out_png)\n",
    "\n",
    "kde_out = PROJECT_ROOT / 'outputs' / 'figures' / 'monroe_kde.png'\n",
    "kde_heatmap(monroe_gdf, kde_out, bandwidth=0.01, img_size=400)"
   ]
  },
  {
   "cell_type": "markdown",
   "id": "51f53a96",
   "metadata": {},
   "source": [
    "## Download OSM Roads (Prep for Week 3)\n",
    "- Visit: https://download.geofabrik.de/north-america/us/louisiana.html\n",
    "- Download **`louisiana-latest-free.shp.zip`** (or `.gpkg`).\n",
    "- Extract and place files into `data_raw/osm_roads/`.\n",
    "- We will load and clip these in Week 3."
   ]
  }
 ],
 "metadata": {},
 "nbformat": 4,
 "nbformat_minor": 5
}
