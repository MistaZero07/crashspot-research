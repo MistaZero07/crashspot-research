{
 "cells": [
  {
   "cell_type": "markdown",
   "id": "158c61d5",
   "metadata": {},
   "source": [
    "# Crashspot — Week 1 Starter Notebook\n",
    "\n",
    "\n",
    "1. Verifying Python environment.\n",
    "2. Installing/confirming the required libraries.\n",
    "3. Creating a clean project folder structure.\n",
    "4. Loading accident and road datasets.\n",
    "5. Checking and aligning CRS (coordinate reference systems).\n",
    "6. Making **first quick plots** with GeoPandas/Matplotlib.\n",
    "7. Building a **simple interactive web map** with Folium.\n",
    "8. Exporting GeoJSON for the web, and saving outputs.\n",
    "\n",
    "\n"
   ]
  },
  {
   "cell_type": "markdown",
   "id": "1d85d6e6",
   "metadata": {},
   "source": [
    "## 1) Environment Check\n",
    "- Importing required libraries and prints helpful info."
   ]
  },
  {
   "cell_type": "code",
   "execution_count": 1,
   "id": "0086158f",
   "metadata": {},
   "outputs": [
    {
     "name": "stdout",
     "output_type": "stream",
     "text": [
      "Python version: 3.12.7 | packaged by Anaconda, Inc. | (main, Oct  4 2024, 08:22:19) [Clang 14.0.6 ]\n",
      "Environment OK — now checking imports...\n",
      "✔ pandas imported\n",
      "✔ numpy imported\n",
      "✔ matplotlib imported\n",
      "✔ matplotlib.pyplot imported\n",
      "✔ geopandas imported\n",
      "✔ shapely imported\n",
      "✔ rasterio imported\n",
      "✔ folium imported\n",
      "✔ sklearn imported\n",
      "\n",
      "All required packages imported successfully!\n"
     ]
    }
   ],
   "source": [
    "import sys\n",
    "\n",
    "print(\"Python version:\", sys.version)\n",
    "print(\"Environment OK — now checking imports...\")\n",
    "\n",
    "missing = []\n",
    "def try_import(name, import_as=None):\n",
    "    try:\n",
    "        mod = __import__(name) if import_as is None else __import__(import_as)\n",
    "        print(f\"✔ {name} imported\")\n",
    "    except Exception as e:\n",
    "        print(f\"✖ Could not import {name}: {e}\")\n",
    "        missing.append(name)\n",
    "\n",
    "try_import(\"pandas\")\n",
    "try_import(\"numpy\")\n",
    "try_import(\"matplotlib\")\n",
    "try:\n",
    "    import matplotlib.pyplot as plt\n",
    "    print(\"✔ matplotlib.pyplot imported\")\n",
    "except Exception as e:\n",
    "    print(\"✖ Could not import matplotlib.pyplot:\", e); missing.append(\"matplotlib\")\n",
    "\n",
    "try_import(\"geopandas\")\n",
    "try_import(\"shapely\")\n",
    "try_import(\"rasterio\")\n",
    "try_import(\"folium\")\n",
    "try_import(\"sklearn\", import_as=\"sklearn\")\n",
    "\n",
    "if missing:\n",
    "    print(\"\\nSome packages are missing. Inside your activated environment, run:\")\n",
    "    print(\"  pip install \" + \" \".join(missing))\n",
    "else:\n",
    "    print(\"\\nAll required packages imported successfully!\")\n"
   ]
  },
  {
   "cell_type": "markdown",
   "id": "333bc4a5",
   "metadata": {},
   "source": [
    "## 2) Create Project Folders\n",
    "- Creating a recommended structure in the **current working directory**.\n"
   ]
  },
  {
   "cell_type": "code",
   "execution_count": 8,
   "id": "81f974f4",
   "metadata": {},
   "outputs": [
    {
     "name": "stdout",
     "output_type": "stream",
     "text": [
      "Created/exists: /Users/himalranabhat/Desktop/Crashspot\n",
      "Created/exists: /Users/himalranabhat/Desktop/Crashspot/data_raw\n",
      "Created/exists: /Users/himalranabhat/Desktop/Crashspot/data_clean\n",
      "Created/exists: /Users/himalranabhat/Desktop/Crashspot/outputs/maps\n",
      "Created/exists: /Users/himalranabhat/Desktop/Crashspot/outputs/figures\n",
      "Created/exists: /Users/himalranabhat/Desktop/Crashspot/scripts\n",
      "Created/exists: /Users/himalranabhat/Desktop/Crashspot/docs\n",
      "\n",
      "Project root is: /Users/himalranabhat/Desktop/Crashspot\n"
     ]
    }
   ],
   "source": [
    "from pathlib import Path\n",
    "\n",
    "PROJECT_ROOT = Path.cwd().parent\n",
    "for p in [\n",
    "    PROJECT_ROOT,\n",
    "    PROJECT_ROOT / \"data_raw\",\n",
    "    PROJECT_ROOT / \"data_clean\",\n",
    "    PROJECT_ROOT / \"outputs\" / \"maps\",\n",
    "    PROJECT_ROOT / \"outputs\" / \"figures\",\n",
    "    PROJECT_ROOT / \"scripts\",\n",
    "    PROJECT_ROOT / \"docs\",\n",
    "]:\n",
    "    p.mkdir(parents=True, exist_ok=True)\n",
    "    print(\"Created/exists:\", p)\n",
    "\n",
    "print(\"\\nProject root is:\", PROJECT_ROOT.resolve())\n"
   ]
  },
  {
   "cell_type": "markdown",
   "id": "8e586798",
   "metadata": {},
   "source": [
    "## 3) Putting Data in `data_raw/`\n",
    "\n",
    "- `data_raw/accidents.csv` (or `.shp`, `.gpkg`)\n",
    "- `data_raw/roads_osm.gpkg` (or `.shp`)\n"
   ]
  },
  {
   "cell_type": "markdown",
   "id": "f71c0f6d",
   "metadata": {},
   "source": [
    "## 4) Load Data (Accidents & Roads)\n",
    "- Loading common formats.\n"
   ]
  },
  {
   "cell_type": "code",
   "execution_count": 9,
   "id": "f7f7baca",
   "metadata": {},
   "outputs": [
    {
     "name": "stdout",
     "output_type": "stream",
     "text": [
      "Total crashes (2022+2023): 77076\n",
      "Louisiana crashes: 1607\n",
      "Monroe crashes: 60\n",
      "Saved statewide file: /Users/himalranabhat/Desktop/Crashspot/data_clean/fars_la_2022_2023.geojson\n",
      "Saved Monroe file: /Users/himalranabhat/Desktop/Crashspot/data_clean/fars_monroe_2022_2023.geojson\n"
     ]
    }
   ],
   "source": [
    "import pandas as pd\n",
    "import geopandas as gpd\n",
    "from shapely.geometry import Point\n",
    "\n",
    "# Paths to your downloaded FARS files\n",
    "acc_2022_path = PROJECT_ROOT / \"data_raw\" / \"accident_2022.csv\"\n",
    "acc_2023_path = PROJECT_ROOT / \"data_raw\" / \"accident_2023.csv\"\n",
    "\n",
    "# Load both years\n",
    "acc_2022 = pd.read_csv(acc_2022_path)\n",
    "acc_2023 = pd.read_csv(acc_2023_path)\n",
    "\n",
    "# Add year column\n",
    "acc_2022[\"YEAR\"] = 2022\n",
    "acc_2023[\"YEAR\"] = 2023\n",
    "\n",
    "# Combine\n",
    "acc_all = pd.concat([acc_2022, acc_2023])\n",
    "print(\"Total crashes (2022+2023):\", len(acc_all))\n",
    "\n",
    "# Filter to Louisiana (STATE == 22)\n",
    "la_df = acc_all[acc_all[\"STATE\"] == 22]\n",
    "print(\"Louisiana crashes:\", len(la_df))\n",
    "\n",
    "# Filter to Ouachita Parish (Monroe) (COUNTY == 73)\n",
    "monroe_df = la_df[la_df[\"COUNTY\"] == 73]\n",
    "print(\"Monroe crashes:\", len(monroe_df))\n",
    "\n",
    "# Convert to GeoDataFrame\n",
    "geometry = [Point(xy) for xy in zip(monroe_df[\"LONGITUD\"], monroe_df[\"LATITUDE\"])]\n",
    "monroe_gdf = gpd.GeoDataFrame(monroe_df, geometry=geometry, crs=\"EPSG:4326\")\n",
    "\n",
    "# Save outputs\n",
    "out_la = PROJECT_ROOT / \"data_clean\" / \"fars_la_2022_2023.geojson\"\n",
    "out_monroe = PROJECT_ROOT / \"data_clean\" / \"fars_monroe_2022_2023.geojson\"\n",
    "\n",
    "# Louisiana-wide GeoDataFrame\n",
    "la_gdf = gpd.GeoDataFrame(\n",
    "    la_df,\n",
    "    geometry=[Point(xy) for xy in zip(la_df[\"LONGITUD\"], la_df[\"LATITUDE\"])],\n",
    "    crs=\"EPSG:4326\"\n",
    ")\n",
    "\n",
    "la_gdf.to_file(out_la, driver=\"GeoJSON\")\n",
    "monroe_gdf.to_file(out_monroe, driver=\"GeoJSON\")\n",
    "\n",
    "print(\"Saved statewide file:\", out_la)\n",
    "print(\"Saved Monroe file:\", out_monroe)\n"
   ]
  },
  {
   "cell_type": "markdown",
   "id": "5322da99",
   "metadata": {},
   "source": [
    "## Rebuild Monroe file with only valid point"
   ]
  },
  {
   "cell_type": "code",
   "execution_count": 11,
   "id": "5d271bb9",
   "metadata": {},
   "outputs": [
    {
     "name": "stdout",
     "output_type": "stream",
     "text": [
      "60 valid Monroe crashes saved to: /Users/himalranabhat/Desktop/Crashspot/data_clean/fars_monroe_2022_2023_clean.geojson\n"
     ]
    }
   ],
   "source": [
    "import pandas as pd, geopandas as gpd\n",
    "from shapely.geometry import Point\n",
    "from pathlib import Path\n",
    "\n",
    "# make sure PROJECT_ROOT points to your main Crashspot folder\n",
    "PROJECT_ROOT = Path.cwd().parent\n",
    "\n",
    "# reload raw CSVs (2022 & 2023)\n",
    "acc_2022 = pd.read_csv(PROJECT_ROOT / \"data_raw\" / \"ACCIDENT_2022.csv\")\n",
    "acc_2023 = pd.read_csv(PROJECT_ROOT / \"data_raw\" / \"ACCIDENT_2023.csv\")\n",
    "\n",
    "# add YEAR and combine\n",
    "acc_2022[\"YEAR\"] = 2022\n",
    "acc_2023[\"YEAR\"] = 2023\n",
    "acc_all = pd.concat([acc_2022, acc_2023], ignore_index=True)\n",
    "\n",
    "# coerce coords to numeric and drop invalid (NaN or 0) coords\n",
    "for c in [\"LATITUDE\", \"LONGITUD\"]:\n",
    "    acc_all[c] = pd.to_numeric(acc_all[c], errors=\"coerce\")\n",
    "\n",
    "la_df = acc_all[acc_all[\"STATE\"] == 22].copy()\n",
    "la_df = la_df[\n",
    "    la_df[\"LATITUDE\"].notna() & la_df[\"LONGITUD\"].notna() &\n",
    "    (la_df[\"LATITUDE\"] != 0) & (la_df[\"LONGITUD\"] != 0)\n",
    "]\n",
    "\n",
    "monroe_df = la_df[la_df[\"COUNTY\"] == 73].copy()\n",
    "\n",
    "# build GeoDataFrame in WGS84\n",
    "monroe_gdf = gpd.GeoDataFrame(\n",
    "    monroe_df,\n",
    "    geometry=gpd.points_from_xy(monroe_df[\"LONGITUD\"], monroe_df[\"LATITUDE\"]),\n",
    "    crs=\"EPSG:4326\"\n",
    ")\n",
    "\n",
    "# double-check geometry validity\n",
    "monroe_gdf = monroe_gdf[monroe_gdf.geometry.notna() & ~monroe_gdf.geometry.is_empty]\n",
    "\n",
    "# save a CLEAN file\n",
    "out_monroe_clean = PROJECT_ROOT / \"data_clean\" / \"fars_monroe_2022_2023_clean.geojson\"\n",
    "monroe_gdf.to_file(out_monroe_clean, driver=\"GeoJSON\")\n",
    "print(len(monroe_gdf), \"valid Monroe crashes saved to:\", out_monroe_clean)\n"
   ]
  },
  {
   "cell_type": "markdown",
   "id": "cc46bcd0",
   "metadata": {},
   "source": [
    "## 5) Check & Align CRS\n",
    "- Aligning both layers to **WGS84 (EPSG:4326)**\n"
   ]
  },
  {
   "cell_type": "code",
   "execution_count": null,
   "id": "95432d1c",
   "metadata": {},
   "outputs": [],
   "source": [
    "def ensure_epsg4326(gdf):\n",
    "    if gdf is None:\n",
    "        return None\n",
    "    if gdf.crs is None:\n",
    "        print(\"Warning: CRS missing; assuming EPSG:4326. Adjust if incorrect.\")\n",
    "        gdf = gdf.set_crs(\"EPSG:4326\")\n",
    "    elif gdf.crs.to_string() != \"EPSG:4326\":\n",
    "        gdf = gdf.to_crs(\"EPSG:4326\")\n",
    "    return gdf\n",
    "\n",
    "accidents_gdf = ensure_epsg4326(accidents_gdf)\n",
    "roads_gdf = ensure_epsg4326(roads_gdf)\n",
    "\n",
    "if accidents_gdf is not None:\n",
    "    print(\"Accidents CRS:\", accidents_gdf.crs)\n",
    "if roads_gdf is not None:\n",
    "    print(\"Roads CRS:\", roads_gdf.crs)\n"
   ]
  },
  {
   "cell_type": "markdown",
   "id": "1ba6ca20",
   "metadata": {},
   "source": [
    "## 6) Quick Static Plots (Matplotlib)\n",
    "- Checking if data lines up.\n"
   ]
  },
  {
   "cell_type": "code",
   "execution_count": null,
   "id": "0d05bb26",
   "metadata": {},
   "outputs": [],
   "source": [
    "import matplotlib.pyplot as plt\n",
    "\n",
    "if roads_gdf is not None or accidents_gdf is not None:\n",
    "    ax = None\n",
    "    if roads_gdf is not None:\n",
    "        ax = roads_gdf.plot(figsize=(8,8))\n",
    "    if accidents_gdf is not None:\n",
    "        ax = accidents_gdf.plot(ax=ax, markersize=3)\n",
    "    plt.title(\"Roads + Accidents (quick look)\")\n",
    "    plt.show()\n",
    "else:\n",
    "    print(\"Load data first (Section 4).\")\n"
   ]
  },
  {
   "cell_type": "markdown",
   "id": "9d0614bc",
   "metadata": {},
   "source": [
    "## 7) Simple Interactive Map (Folium)\n",
    "- Centers on the average accident location (if available), else a default location.\n",
    "- Adding roads (as GeoJSON) and accident points.\n",
    "\n"
   ]
  },
  {
   "cell_type": "code",
   "execution_count": 12,
   "id": "b7e2847b",
   "metadata": {},
   "outputs": [
    {
     "data": {
      "text/plain": [
       "PosixPath('/Users/himalranabhat/Desktop/Crashspot/outputs/maps/monroe_fars_2022_2023.html')"
      ]
     },
     "execution_count": 12,
     "metadata": {},
     "output_type": "execute_result"
    }
   ],
   "source": [
    "import folium\n",
    "from folium.plugins import MarkerCluster\n",
    "import geopandas as gpd\n",
    "from pathlib import Path\n",
    "\n",
    "PROJECT_ROOT = Path.cwd().parent\n",
    "monroe_path = PROJECT_ROOT / \"data_clean\" / \"fars_monroe_2022_2023_clean.geojson\"\n",
    "\n",
    "# load to ensure no empty geometries remain\n",
    "monroe_g = gpd.read_file(monroe_path)\n",
    "monroe_g = monroe_g[monroe_g.geometry.notna() & ~monroe_g.geometry.is_empty]\n",
    "\n",
    "m = folium.Map(location=[32.5093, -92.1193], zoom_start=11)\n",
    "cluster = MarkerCluster().add_to(m)\n",
    "\n",
    "folium.GeoJson(\n",
    "    data=monroe_g,   # pass the GeoDataFrame (not just the path)\n",
    "    name=\"Monroe FARS (2022–2023)\",\n",
    "    popup=folium.GeoJsonPopup(\n",
    "        fields=[\"YEAR\",\"MONTH\",\"DAY\",\"HOUR\",\"HARM_EV\",\"MAN_COLL\"],\n",
    "        aliases=[\"Year\",\"Month\",\"Day\",\"Hour\",\"Harmful Event\",\"Manner of Collision\"]\n",
    "    )\n",
    ").add_to(cluster)\n",
    "\n",
    "folium.LayerControl().add_to(m)\n",
    "out_html = PROJECT_ROOT / \"outputs\" / \"maps\" / \"monroe_fars_2022_2023.html\"\n",
    "m.save(str(out_html))\n",
    "out_html\n"
   ]
  },
  {
   "cell_type": "markdown",
   "id": "80fb6b2e",
   "metadata": {},
   "source": [
    "## 8) Save Cleaned Copies\n",
    "- Save **GeoJSON** or **GeoPackage**.\n"
   ]
  },
  {
   "cell_type": "code",
   "execution_count": 15,
   "id": "8be347ac",
   "metadata": {},
   "outputs": [
    {
     "name": "stdout",
     "output_type": "stream",
     "text": [
      "✅ Louisiana (2022–2023) file found at /Users/himalranabhat/Desktop/Crashspot/data_clean/fars_la_2022_2023.geojson with 1607 records\n",
      "✅ Monroe (2022–2023) file found at /Users/himalranabhat/Desktop/Crashspot/data_clean/fars_monroe_2022_2023_clean.geojson with 60 records\n"
     ]
    }
   ],
   "source": [
    "from pathlib import Path\n",
    "import geopandas as gpd\n",
    "\n",
    "# files you expect to exist\n",
    "expected_files = {\n",
    "    \"Louisiana (2022–2023)\": PROJECT_ROOT / \"data_clean\" / \"fars_la_2022_2023.geojson\",\n",
    "    \"Monroe (2022–2023)\": PROJECT_ROOT / \"data_clean\" / \"fars_monroe_2022_2023_clean.geojson\"\n",
    "}\n",
    "\n",
    "for name, f in expected_files.items():\n",
    "    if f.exists():\n",
    "        try:\n",
    "            gdf = gpd.read_file(f)\n",
    "            print(f\"✅ {name} file found at {f} with {len(gdf)} records\")\n",
    "        except Exception as e:\n",
    "            print(f\"⚠️ {name} file exists but could not be read: {e}\")\n",
    "    else:\n",
    "        print(f\"❌ {name} file not found at {f}\")\n"
   ]
  },
  {
   "cell_type": "markdown",
   "id": "bdd846df",
   "metadata": {},
   "source": []
  }
 ],
 "metadata": {
  "kernelspec": {
   "display_name": "base",
   "language": "python",
   "name": "python3"
  },
  "language_info": {
   "codemirror_mode": {
    "name": "ipython",
    "version": 3
   },
   "file_extension": ".py",
   "mimetype": "text/x-python",
   "name": "python",
   "nbconvert_exporter": "python",
   "pygments_lexer": "ipython3",
   "version": "3.12.7"
  }
 },
 "nbformat": 4,
 "nbformat_minor": 5
}
