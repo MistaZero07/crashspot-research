{
 "cells": [
  {
   "cell_type": "markdown",
   "id": "158c61d5",
   "metadata": {},
   "source": [
    "# Crashspot — Week 1 Starter Notebook\n",
    "\n",
    "Welcome! This notebook walks you **step-by-step** through:\n",
    "1. Verifying your Python environment (inside a virtualenv or conda env).\n",
    "2. Installing/confirming the required libraries.\n",
    "3. Creating a clean project folder structure.\n",
    "4. Loading your accident and road datasets.\n",
    "5. Checking and aligning CRS (coordinate reference systems).\n",
    "6. Making your **first quick plots** with GeoPandas/Matplotlib.\n",
    "7. Building a **simple interactive web map** with Folium.\n",
    "8. Exporting GeoJSON for the web, and saving outputs.\n",
    "\n",
    "> If any step fails, read the error message (it's normal!) and follow the tips shown in each cell.\n"
   ]
  },
  {
   "cell_type": "markdown",
   "id": "1d85d6e6",
   "metadata": {},
   "source": [
    "## 1) Environment Check\n",
    "\n",
    "- Make sure you're inside your project environment:\n",
    "  - **venv**: `source venv/bin/activate` (mac/linux) or `venv\\Scripts\\activate` (windows)\n",
    "  - **conda**: `conda activate crashspot`\n",
    "- The cell below imports required libraries and prints helpful info.\n"
   ]
  },
  {
   "cell_type": "code",
   "execution_count": null,
   "id": "0086158f",
   "metadata": {},
   "outputs": [],
   "source": [
    "import sys\n",
    "\n",
    "print(\"Python version:\", sys.version)\n",
    "print(\"Environment OK — now checking imports...\")\n",
    "\n",
    "missing = []\n",
    "def try_import(name, import_as=None):\n",
    "    try:\n",
    "        mod = __import__(name) if import_as is None else __import__(import_as)\n",
    "        print(f\"✔ {name} imported\")\n",
    "    except Exception as e:\n",
    "        print(f\"✖ Could not import {name}: {e}\")\n",
    "        missing.append(name)\n",
    "\n",
    "try_import(\"pandas\")\n",
    "try_import(\"numpy\")\n",
    "try_import(\"matplotlib\")\n",
    "try:\n",
    "    import matplotlib.pyplot as plt\n",
    "    print(\"✔ matplotlib.pyplot imported\")\n",
    "except Exception as e:\n",
    "    print(\"✖ Could not import matplotlib.pyplot:\", e); missing.append(\"matplotlib\")\n",
    "\n",
    "try_import(\"geopandas\")\n",
    "try_import(\"shapely\")\n",
    "try_import(\"rasterio\")\n",
    "try_import(\"folium\")\n",
    "try_import(\"sklearn\", import_as=\"sklearn\")\n",
    "\n",
    "if missing:\n",
    "    print(\"\\nSome packages are missing. Inside your activated environment, run:\")\n",
    "    print(\"  pip install \" + \" \".join(missing))\n",
    "else:\n",
    "    print(\"\\nAll required packages imported successfully!\")\n"
   ]
  },
  {
   "cell_type": "markdown",
   "id": "333bc4a5",
   "metadata": {},
   "source": [
    "## 2) Create Project Folders\n",
    "\n",
    "This will create a recommended structure in the **current working directory**.\n",
    "You can change `PROJECT_ROOT` if you want it elsewhere.\n"
   ]
  },
  {
   "cell_type": "code",
   "execution_count": null,
   "id": "81f974f4",
   "metadata": {},
   "outputs": [],
   "source": [
    "from pathlib import Path\n",
    "\n",
    "PROJECT_ROOT = Path.cwd() / \"Crashspot\"\n",
    "for p in [\n",
    "    PROJECT_ROOT,\n",
    "    PROJECT_ROOT / \"data_raw\",\n",
    "    PROJECT_ROOT / \"data_clean\",\n",
    "    PROJECT_ROOT / \"outputs\" / \"maps\",\n",
    "    PROJECT_ROOT / \"outputs\" / \"figures\",\n",
    "    PROJECT_ROOT / \"scripts\",\n",
    "    PROJECT_ROOT / \"docs\",\n",
    "]:\n",
    "    p.mkdir(parents=True, exist_ok=True)\n",
    "    print(\"Created/exists:\", p)\n",
    "\n",
    "print(\"\\nProject root is:\", PROJECT_ROOT.resolve())\n"
   ]
  },
  {
   "cell_type": "markdown",
   "id": "8e586798",
   "metadata": {},
   "source": [
    "## 3) Put Your Data in `data_raw/`\n",
    "\n",
    "Place files like:\n",
    "- `data_raw/accidents.csv` (or `.shp`, `.gpkg`)\n",
    "- `data_raw/roads_osm.gpkg` (or `.shp`)\n",
    "\n",
    "> If your accident data doesn't have latitude/longitude, look for separate fields or geocode addresses later (not in Week 1).\n"
   ]
  },
  {
   "cell_type": "markdown",
   "id": "f71c0f6d",
   "metadata": {},
   "source": [
    "## 4) Load Data (Accidents & Roads)\n",
    "\n",
    "This cell tries to load common formats. Update the filenames if yours differ.\n"
   ]
  },
  {
   "cell_type": "code",
   "execution_count": null,
   "id": "f7f7baca",
   "metadata": {},
   "outputs": [],
   "source": [
    "import geopandas as gpd\n",
    "import pandas as pd\n",
    "\n",
    "accidents_path_csv = PROJECT_ROOT / \"data_raw\" / \"accidents.csv\"\n",
    "accidents_path_shp = PROJECT_ROOT / \"data_raw\" / \"accidents.shp\"\n",
    "accidents_path_gpkg = PROJECT_ROOT / \"data_raw\" / \"accidents.gpkg\"  # layer name may be needed\n",
    "\n",
    "roads_path_gpkg = PROJECT_ROOT / \"data_raw\" / \"roads_osm.gpkg\"\n",
    "roads_path_shp = PROJECT_ROOT / \"data_raw\" / \"roads_osm.shp\"\n",
    "\n",
    "accidents_gdf = None\n",
    "roads_gdf = None\n",
    "\n",
    "# Try accidents\n",
    "if accidents_path_csv.exists():\n",
    "    df = pd.read_csv(accidents_path_csv)\n",
    "    # Try to convert to GeoDataFrame if lat/lon columns exist\n",
    "    lat_cols = [c for c in df.columns if c.lower() in (\"lat\",\"latitude\",\"y\")]\n",
    "    lon_cols = [c for c in df.columns if c.lower() in (\"lon\",\"longitude\",\"x\",\"lng\")]\n",
    "    if lat_cols and lon_cols:\n",
    "        accidents_gdf = gpd.GeoDataFrame(\n",
    "            df,\n",
    "            geometry=gpd.points_from_xy(df[lon_cols[0]], df[lat_cols[0]]),\n",
    "            crs=\"EPSG:4326\"\n",
    "        )\n",
    "        print(\"Loaded accidents from CSV with lat/lon columns.\")\n",
    "    else:\n",
    "        print(\"Found accidents.csv but couldn't detect lat/lon columns. You'll add them or use a spatial file.\")\n",
    "elif accidents_path_shp.exists():\n",
    "    accidents_gdf = gpd.read_file(accidents_path_shp)\n",
    "    print(\"Loaded accidents shapefile.\")\n",
    "elif accidents_path_gpkg.exists():\n",
    "    # If multiple layers exist, specify layer=\n",
    "    accidents_gdf = gpd.read_file(accidents_path_gpkg)\n",
    "    print(\"Loaded accidents GeoPackage.\")\n",
    "else:\n",
    "    print(\"No accidents dataset found yet. Put a file into data_raw/.\")\n",
    "\n",
    "# Try roads\n",
    "if roads_path_gpkg.exists():\n",
    "    roads_gdf = gpd.read_file(roads_path_gpkg)\n",
    "    print(\"Loaded roads from GeoPackage.\")\n",
    "elif roads_path_shp.exists():\n",
    "    roads_gdf = gpd.read_file(roads_path_shp)\n",
    "    print(\"Loaded roads shapefile.\")\n",
    "else:\n",
    "    print(\"No roads dataset found yet. Put OSM roads into data_raw/.\")\n",
    "\n",
    "accidents_gdf, roads_gdf\n"
   ]
  },
  {
   "cell_type": "markdown",
   "id": "cc46bcd0",
   "metadata": {},
   "source": [
    "## 5) Check & Align CRS\n",
    "\n",
    "We will align both layers to **WGS84 (EPSG:4326)** for now.\n",
    "Later, you can switch to a local projection if needed.\n"
   ]
  },
  {
   "cell_type": "code",
   "execution_count": null,
   "id": "95432d1c",
   "metadata": {},
   "outputs": [],
   "source": [
    "def ensure_epsg4326(gdf):\n",
    "    if gdf is None:\n",
    "        return None\n",
    "    if gdf.crs is None:\n",
    "        print(\"Warning: CRS missing; assuming EPSG:4326. Adjust if incorrect.\")\n",
    "        gdf = gdf.set_crs(\"EPSG:4326\")\n",
    "    elif gdf.crs.to_string() != \"EPSG:4326\":\n",
    "        gdf = gdf.to_crs(\"EPSG:4326\")\n",
    "    return gdf\n",
    "\n",
    "accidents_gdf = ensure_epsg4326(accidents_gdf)\n",
    "roads_gdf = ensure_epsg4326(roads_gdf)\n",
    "\n",
    "if accidents_gdf is not None:\n",
    "    print(\"Accidents CRS:\", accidents_gdf.crs)\n",
    "if roads_gdf is not None:\n",
    "    print(\"Roads CRS:\", roads_gdf.crs)\n"
   ]
  },
  {
   "cell_type": "markdown",
   "id": "1ba6ca20",
   "metadata": {},
   "source": [
    "## 6) Quick Static Plots (Matplotlib)\n",
    "\n",
    "This gives you a fast visual check that your data lines up.\n"
   ]
  },
  {
   "cell_type": "code",
   "execution_count": null,
   "id": "0d05bb26",
   "metadata": {},
   "outputs": [],
   "source": [
    "import matplotlib.pyplot as plt\n",
    "\n",
    "if roads_gdf is not None or accidents_gdf is not None:\n",
    "    ax = None\n",
    "    if roads_gdf is not None:\n",
    "        ax = roads_gdf.plot(figsize=(8,8))\n",
    "    if accidents_gdf is not None:\n",
    "        ax = accidents_gdf.plot(ax=ax, markersize=3)\n",
    "    plt.title(\"Roads + Accidents (quick look)\")\n",
    "    plt.show()\n",
    "else:\n",
    "    print(\"Load data first (Section 4).\")\n"
   ]
  },
  {
   "cell_type": "markdown",
   "id": "9d0614bc",
   "metadata": {},
   "source": [
    "## 7) Simple Interactive Map (Folium)\n",
    "\n",
    "- Centers on the average accident location (if available), else a default location.\n",
    "- Adds roads (as GeoJSON) and accident points.\n",
    "- You can pan/zoom and click features.\n"
   ]
  },
  {
   "cell_type": "code",
   "execution_count": null,
   "id": "b7e2847b",
   "metadata": {},
   "outputs": [],
   "source": [
    "import folium\n",
    "from pathlib import Path\n",
    "\n",
    "m_center = [30.22, -92.02]  # Lafayette-ish default\n",
    "if accidents_gdf is not None and not accidents_gdf.empty:\n",
    "    m_center = [accidents_gdf.geometry.y.mean(), accidents_gdf.geometry.x.mean()]\n",
    "\n",
    "m = folium.Map(location=m_center, zoom_start=11)\n",
    "\n",
    "# Add roads if present\n",
    "if roads_gdf is not None and not roads_gdf.empty:\n",
    "    tmp_roads = PROJECT_ROOT / \"data_clean\" / \"roads_tmp.geojson\"\n",
    "    roads_gdf.to_file(tmp_roads, driver=\"GeoJSON\")\n",
    "    folium.GeoJson(tmp_roads).add_to(m)\n",
    "    print(\"Added roads layer to map.\")\n",
    "\n",
    "# Add points if present\n",
    "if accidents_gdf is not None and not accidents_gdf.empty:\n",
    "    tmp_points = PROJECT_ROOT / \"data_clean\" / \"accidents_tmp.geojson\"\n",
    "    accidents_gdf.to_file(tmp_points, driver=\"GeoJSON\")\n",
    "    folium.GeoJson(tmp_points, name=\"accidents\").add_to(m)\n",
    "    print(\"Added accidents layer to map.\")\n",
    "\n",
    "# Save map\n",
    "out_html = PROJECT_ROOT / \"outputs\" / \"maps\" / \"quick_map.html\"\n",
    "m.save(str(out_html))\n",
    "out_html\n"
   ]
  },
  {
   "cell_type": "markdown",
   "id": "80fb6b2e",
   "metadata": {},
   "source": [
    "## 8) Save Cleaned Copies\n",
    "\n",
    "This shows how to save **GeoJSON** (great for web maps) or **GeoPackage**.\n"
   ]
  },
  {
   "cell_type": "code",
   "execution_count": null,
   "id": "8be347ac",
   "metadata": {},
   "outputs": [],
   "source": [
    "if accidents_gdf is not None and not accidents_gdf.empty:\n",
    "    out_acc = PROJECT_ROOT / \"data_clean\" / \"accidents_clean.geojson\"\n",
    "    accidents_gdf.to_file(out_acc, driver=\"GeoJSON\")\n",
    "    print(\"Saved:\", out_acc)\n",
    "\n",
    "if roads_gdf is not None and not roads_gdf.empty:\n",
    "    out_roads = PROJECT_ROOT / \"data_clean\" / \"roads_clean.geojson\"\n",
    "    roads_gdf.to_file(out_roads, driver=\"GeoJSON\")\n",
    "    print(\"Saved:\", out_roads)\n"
   ]
  },
  {
   "cell_type": "markdown",
   "id": "bdd846df",
   "metadata": {},
   "source": [
    "## 9) What’s Next (Week 2 Preview)\n",
    "\n",
    "- Handle missing or invalid coordinates.\n",
    "- Standardize important fields (date/time, severity, road type).\n",
    "- Deduplicate records if needed.\n",
    "- Begin exploratory heatmaps in QGIS (Kernel Density Estimation).\n",
    "- Fill out `data_sources.md` completely.\n",
    "\n",
    "> When you’re ready, we’ll add DBSCAN clustering and start preparing features for the predictive model.\n"
   ]
  }
 ],
 "metadata": {},
 "nbformat": 4,
 "nbformat_minor": 5
}
