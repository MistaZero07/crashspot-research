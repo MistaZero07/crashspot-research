{
 "cells": [
  {
   "cell_type": "markdown",
   "id": "cef4297b",
   "metadata": {},
   "source": [
    "# Crashspot – Week 8 Starter\n",
    "\n",
    "**Focus:** Model interpretation + spatial integration"
   ]
  },
  {
   "cell_type": "code",
   "execution_count": 1,
   "id": "db4bb1dc",
   "metadata": {},
   "outputs": [
    {
     "name": "stdout",
     "output_type": "stream",
     "text": [
      "SHAP not available; using permutation importance instead. To enable: pip install shap\n",
      "Model loaded: <class 'sklearn.ensemble._forest.RandomForestClassifier'>\n"
     ]
    },
    {
     "data": {
      "image/png": "[encoded data removed]",
      "text/plain": [
       "<Figure size 800x600 with 1 Axes>"
      ]
     },
     "metadata": {},
     "output_type": "display_data"
    },
    {
     "name": "stdout",
     "output_type": "stream",
     "text": [
      "Saved map: ../docs/maps/week8_predicted_hotspots.html\n",
      "Week 8 completed cells ready.\n"
     ]
    }
   ],
   "source": [
    "\n",
    "# Imports\n",
    "import os\n",
    "import pandas as pd\n",
    "import numpy as np\n",
    "import matplotlib.pyplot as plt\n",
    "\n",
    "from sklearn.inspection import permutation_importance\n",
    "from sklearn.metrics import confusion_matrix, classification_report\n",
    "import joblib\n",
    "\n",
    "# Optional: SHAP, Folium\n",
    "try:\n",
    "    import shap\n",
    "    HAS_SHAP = True\n",
    "except Exception as e:\n",
    "    HAS_SHAP = False\n",
    "    print(\"SHAP not available; using permutation importance instead. To enable: pip install shap\")\n",
    "\n",
    "try:\n",
    "    import folium\n",
    "    HAS_FOLIUM = True\n",
    "except Exception as e:\n",
    "    HAS_FOLIUM = False\n",
    "    print(\"Folium not available; skipping map export. To enable: pip install folium\")\n",
    "\n",
    "FIG_DIR = \"../output/figures\"\n",
    "MAP_DIR = \"../docs/maps\"\n",
    "DATA_FEATURES = \"../data_clean/week5_features.csv\"  # or week6_features.csv if you created it\n",
    "GEO_PATH = \"../data_clean/fars_monroe_2022_2023_clean.geojson\"  # adjust if different\n",
    "MODEL_PATH = \"../models/week7_best_model.pkl\"  # Use the tuned model from Week 7\n",
    "\n",
    "os.makedirs(FIG_DIR, exist_ok=True)\n",
    "os.makedirs(MAP_DIR, exist_ok=True)\n",
    "\n",
    "# Load data + model\n",
    "df = pd.read_csv(DATA_FEATURES)\n",
    "X = df.drop(columns=[\"target_multiveh\"])\n",
    "y = df[\"target_multiveh\"]\n",
    "model = joblib.load(MODEL_PATH)\n",
    "print(\"Model loaded:\", type(model))\n",
    "\n",
    "# --- Interpretation ---\n",
    "# 1) Permutation importance (model-agnostic)\n",
    "perm = permutation_importance(model, X, y, n_repeats=10, random_state=42, n_jobs=-1)\n",
    "imp_df = pd.DataFrame({\"feature\": X.columns, \"importance\": perm.importances_mean}).sort_values(\"importance\", ascending=False)\n",
    "imp_df.head(20)\n",
    "\n",
    "plt.figure(figsize=(8,6))\n",
    "plt.barh(imp_df[\"feature\"], imp_df[\"importance\"])\n",
    "plt.gca().invert_yaxis()\n",
    "plt.title(\"Week8 – Permutation Importance\")\n",
    "plt.xlabel(\"Mean importance\")\n",
    "plt.tight_layout()\n",
    "plt.savefig(os.path.join(FIG_DIR, \"week8_permutation_importance.png\"), dpi=150)\n",
    "plt.show()\n",
    "\n",
    "# 2) Optional SHAP (tree/linear supported). This might be slow depending on model.\n",
    "if HAS_SHAP:\n",
    "    try:\n",
    "        explainer = shap.Explainer(model, X)\n",
    "        shap_values = explainer(X)\n",
    "        shap.plots.beeswarm(shap_values, max_display=20, show=False)\n",
    "        plt.tight_layout()\n",
    "        plt.savefig(os.path.join(FIG_DIR, \"week8_shap_beeswarm.png\"), dpi=150, bbox_inches=\"tight\")\n",
    "        plt.show()\n",
    "    except Exception as e:\n",
    "        print(\"SHAP explanation failed:\", e)\n",
    "\n",
    "# --- Spatial integration (optional) ---\n",
    "# Expected: your GeoJSON contains either same rows or a join key 'case_id' that is present in DATA_FEATURES\n",
    "try:\n",
    "    import geopandas as gpd\n",
    "    gdf = gpd.read_file(GEO_PATH)\n",
    "    # Heuristic: if an id exists, merge on it; else if same length, align by index\n",
    "    join_key = None\n",
    "    for k in [\"case_id\", \"ST_CASE\", \"id\", \"record_id\"]:\n",
    "        if k in gdf.columns and k in df.columns:\n",
    "            join_key = k\n",
    "            break\n",
    "\n",
    "    if join_key:\n",
    "        merged = gdf.merge(df.assign(pred=model.predict_proba(X)[:,1]), on=join_key, how=\"inner\")\n",
    "    else:\n",
    "        if len(gdf) == len(df):\n",
    "            merged = gdf.copy()\n",
    "            merged[\"pred\"] = model.predict_proba(X)[:,1]\n",
    "        else:\n",
    "            merged = None\n",
    "            print(\"Cannot align GeoJSON to features automatically. Add a common key like 'case_id'.\")\n",
    "\n",
    "    if merged is not None and HAS_FOLIUM:\n",
    "        center = [merged.geometry.y.mean(), merged.geometry.x.mean()]\n",
    "        m = folium.Map(location=center, zoom_start=11)\n",
    "        # Simple circle markers sized by predicted risk\n",
    "        for _, r in merged.iterrows():\n",
    "            try:\n",
    "                lat, lon = r.geometry.y, r.geometry.x\n",
    "                folium.CircleMarker(\n",
    "                    location=[lat, lon],\n",
    "                    radius=3 + 7*float(r[\"pred\"]),\n",
    "                    popup=f\"pred={r['pred']:.2f}\",\n",
    "                    fill=True\n",
    "                ).add_to(m)\n",
    "            except Exception:\n",
    "                continue\n",
    "        out_map = os.path.join(MAP_DIR, \"week8_predicted_hotspots.html\")\n",
    "        m.save(out_map)\n",
    "        print(\"Saved map:\", out_map)\n",
    "    elif merged is not None:\n",
    "        print(\"Folium not installed; skipping web map export.\")\n",
    "except Exception as e:\n",
    "    print(\"Spatial integration skipped due to:\", e)\n",
    "\n",
    "print(\"Week 8 completed cells ready.\")\n"
   ]
  }
 ],
 "metadata": {
  "kernelspec": {
   "display_name": "base",
   "language": "python",
   "name": "python3"
  },
  "language_info": {
   "codemirror_mode": {
    "name": "ipython",
    "version": 3
   },
   "file_extension": ".py",
   "mimetype": "text/x-python",
   "name": "python",
   "nbconvert_exporter": "python",
   "pygments_lexer": "ipython3",
   "version": "3.12.2"
  }
 },
 "nbformat": 4,
 "nbformat_minor": 5
}
